{
 "cells": [
  {
   "cell_type": "markdown",
   "metadata": {},
   "source": [
    "# Smart Search: Q&A"
   ]
  },
  {
   "cell_type": "markdown",
   "metadata": {},
   "source": [
    "### Imports"
   ]
  },
  {
   "cell_type": "code",
   "execution_count": 396,
   "metadata": {},
   "outputs": [],
   "source": [
    "import logging\n",
    "import multiprocessing as mp\n",
    "from collections.abc import (\n",
    "    Iterable,\n",
    "    Sequence,\n",
    ")\n",
    "from pathlib import Path\n",
    "\n",
    "import pandas as pd\n",
    "import more_itertools as mit\n",
    "import gensim\n",
    "import nltk\n",
    "import unidecode\n",
    "from gensim.models import (\n",
    "    doc2vec,\n",
    ")\n",
    "from sklearn import (\n",
    "    dummy,\n",
    "    decomposition,\n",
    "    preprocessing,\n",
    "    metrics,\n",
    "    model_selection,\n",
    "    naive_bayes,\n",
    "    linear_model,\n",
    ")"
   ]
  },
  {
   "cell_type": "code",
   "execution_count": 2,
   "metadata": {},
   "outputs": [
    {
     "name": "stdout",
     "output_type": "stream",
     "text": [
      "The autoreload extension is already loaded. To reload it, use:\n",
      "  %reload_ext autoreload\n"
     ]
    }
   ],
   "source": [
    "%load_ext autoreload\n",
    "%autoreload 2"
   ]
  },
  {
   "cell_type": "code",
   "execution_count": 3,
   "metadata": {},
   "outputs": [],
   "source": [
    "%aimport autoreply.dataset\n",
    "%aimport autoreply.constants\n",
    "%aimport autoreply.misc_data\n",
    "\n",
    "%aimport autoreply.modeling\n",
    "%aimport autoreply.modeling.eda\n",
    "%aimport autoreply.modeling.model\n",
    "%aimport autoreply.modeling.preprocess\n",
    "%aimport autoreply.modeling.evaluate\n",
    "\n",
    "\n",
    "from autoreply import (\n",
    "    misc_data,\n",
    "    constants as C,\n",
    "    modeling,\n",
    ")"
   ]
  },
  {
   "cell_type": "code",
   "execution_count": 4,
   "metadata": {},
   "outputs": [],
   "source": [
    "logging.basicConfig(level=logging.WARNING, force=True)"
   ]
  },
  {
   "cell_type": "markdown",
   "metadata": {},
   "source": [
    "## EDA"
   ]
  },
  {
   "cell_type": "code",
   "execution_count": 5,
   "metadata": {},
   "outputs": [],
   "source": [
    "db = misc_data.DBResult.load()"
   ]
  },
  {
   "cell_type": "markdown",
   "metadata": {},
   "source": [
    "### Data view"
   ]
  },
  {
   "cell_type": "markdown",
   "metadata": {},
   "source": [
    "#### Title"
   ]
  },
  {
   "cell_type": "code",
   "execution_count": 86,
   "metadata": {},
   "outputs": [
    {
     "data": {
      "text/html": [
       "<div>\n",
       "<style scoped>\n",
       "    .dataframe tbody tr th:only-of-type {\n",
       "        vertical-align: middle;\n",
       "    }\n",
       "\n",
       "    .dataframe tbody tr th {\n",
       "        vertical-align: top;\n",
       "    }\n",
       "\n",
       "    .dataframe thead th {\n",
       "        text-align: right;\n",
       "    }\n",
       "</style>\n",
       "<table border=\"1\" class=\"dataframe\">\n",
       "  <thead>\n",
       "    <tr style=\"text-align: right;\">\n",
       "      <th></th>\n",
       "      <th>title_id</th>\n",
       "      <th>title</th>\n",
       "    </tr>\n",
       "  </thead>\n",
       "  <tbody>\n",
       "    <tr>\n",
       "      <th>0</th>\n",
       "      <td>0</td>\n",
       "      <td>Frédéric_Chopin</td>\n",
       "    </tr>\n",
       "    <tr>\n",
       "      <th>1</th>\n",
       "      <td>1</td>\n",
       "      <td>IPod</td>\n",
       "    </tr>\n",
       "    <tr>\n",
       "      <th>2</th>\n",
       "      <td>2</td>\n",
       "      <td>The_Legend_of_Zelda:_Twilight_Princess</td>\n",
       "    </tr>\n",
       "    <tr>\n",
       "      <th>3</th>\n",
       "      <td>3</td>\n",
       "      <td>Spectre_(2015_film)</td>\n",
       "    </tr>\n",
       "    <tr>\n",
       "      <th>4</th>\n",
       "      <td>4</td>\n",
       "      <td>2008_Sichuan_earthquake</td>\n",
       "    </tr>\n",
       "    <tr>\n",
       "      <th>...</th>\n",
       "      <td>...</td>\n",
       "      <td>...</td>\n",
       "    </tr>\n",
       "    <tr>\n",
       "      <th>289</th>\n",
       "      <td>289</td>\n",
       "      <td>Richmond,_Virginia</td>\n",
       "    </tr>\n",
       "    <tr>\n",
       "      <th>290</th>\n",
       "      <td>290</td>\n",
       "      <td>Infection</td>\n",
       "    </tr>\n",
       "    <tr>\n",
       "      <th>291</th>\n",
       "      <td>291</td>\n",
       "      <td>Kathmandu</td>\n",
       "    </tr>\n",
       "    <tr>\n",
       "      <th>292</th>\n",
       "      <td>292</td>\n",
       "      <td>Myocardial_infarction</td>\n",
       "    </tr>\n",
       "    <tr>\n",
       "      <th>293</th>\n",
       "      <td>293</td>\n",
       "      <td>Matter</td>\n",
       "    </tr>\n",
       "  </tbody>\n",
       "</table>\n",
       "<p>294 rows × 2 columns</p>\n",
       "</div>"
      ],
      "text/plain": [
       "     title_id                                   title\n",
       "0           0                         Frédéric_Chopin\n",
       "1           1                                    IPod\n",
       "2           2  The_Legend_of_Zelda:_Twilight_Princess\n",
       "3           3                     Spectre_(2015_film)\n",
       "4           4                 2008_Sichuan_earthquake\n",
       "..        ...                                     ...\n",
       "289       289                      Richmond,_Virginia\n",
       "290       290                               Infection\n",
       "291       291                               Kathmandu\n",
       "292       292                   Myocardial_infarction\n",
       "293       293                                  Matter\n",
       "\n",
       "[294 rows x 2 columns]"
      ]
     },
     "execution_count": 86,
     "metadata": {},
     "output_type": "execute_result"
    }
   ],
   "source": [
    "db.title"
   ]
  },
  {
   "cell_type": "markdown",
   "metadata": {},
   "source": [
    "#### Paragraph"
   ]
  },
  {
   "cell_type": "code",
   "execution_count": 8,
   "metadata": {},
   "outputs": [
    {
     "data": {
      "text/html": [
       "<div>\n",
       "<style scoped>\n",
       "    .dataframe tbody tr th:only-of-type {\n",
       "        vertical-align: middle;\n",
       "    }\n",
       "\n",
       "    .dataframe tbody tr th {\n",
       "        vertical-align: top;\n",
       "    }\n",
       "\n",
       "    .dataframe thead th {\n",
       "        text-align: right;\n",
       "    }\n",
       "</style>\n",
       "<table border=\"1\" class=\"dataframe\">\n",
       "  <thead>\n",
       "    <tr style=\"text-align: right;\">\n",
       "      <th></th>\n",
       "      <th>title_id</th>\n",
       "      <th>para_id</th>\n",
       "      <th>context</th>\n",
       "    </tr>\n",
       "  </thead>\n",
       "  <tbody>\n",
       "    <tr>\n",
       "      <th>0</th>\n",
       "      <td>0</td>\n",
       "      <td>0</td>\n",
       "      <td>Frédéric François Chopin (/ˈʃoʊpæn/; French pr...</td>\n",
       "    </tr>\n",
       "    <tr>\n",
       "      <th>1</th>\n",
       "      <td>0</td>\n",
       "      <td>1</td>\n",
       "      <td>At the age of 21 he settled in Paris. Thereaft...</td>\n",
       "    </tr>\n",
       "    <tr>\n",
       "      <th>2</th>\n",
       "      <td>0</td>\n",
       "      <td>2</td>\n",
       "      <td>All of Chopin's compositions include the piano...</td>\n",
       "    </tr>\n",
       "    <tr>\n",
       "      <th>3</th>\n",
       "      <td>0</td>\n",
       "      <td>3</td>\n",
       "      <td>In his native Poland, in France, where he comp...</td>\n",
       "    </tr>\n",
       "    <tr>\n",
       "      <th>4</th>\n",
       "      <td>0</td>\n",
       "      <td>4</td>\n",
       "      <td>Fryderyk Chopin was born in Żelazowa Wola, 46 ...</td>\n",
       "    </tr>\n",
       "    <tr>\n",
       "      <th>...</th>\n",
       "      <td>...</td>\n",
       "      <td>...</td>\n",
       "      <td>...</td>\n",
       "    </tr>\n",
       "    <tr>\n",
       "      <th>12826</th>\n",
       "      <td>293</td>\n",
       "      <td>24</td>\n",
       "      <td>Isaac Newton (1643–1727) inherited Descartes' ...</td>\n",
       "    </tr>\n",
       "    <tr>\n",
       "      <th>12827</th>\n",
       "      <td>293</td>\n",
       "      <td>25</td>\n",
       "      <td>There is an entire literature concerning the \"...</td>\n",
       "    </tr>\n",
       "    <tr>\n",
       "      <th>12828</th>\n",
       "      <td>293</td>\n",
       "      <td>26</td>\n",
       "      <td>In the late 19th century with the discovery of...</td>\n",
       "    </tr>\n",
       "    <tr>\n",
       "      <th>12829</th>\n",
       "      <td>293</td>\n",
       "      <td>27</td>\n",
       "      <td>These quarks and leptons interact through four...</td>\n",
       "    </tr>\n",
       "    <tr>\n",
       "      <th>12830</th>\n",
       "      <td>293</td>\n",
       "      <td>28</td>\n",
       "      <td>The term \"matter\" is used throughout physics i...</td>\n",
       "    </tr>\n",
       "  </tbody>\n",
       "</table>\n",
       "<p>12831 rows × 3 columns</p>\n",
       "</div>"
      ],
      "text/plain": [
       "       title_id  para_id                                            context\n",
       "0             0        0  Frédéric François Chopin (/ˈʃoʊpæn/; French pr...\n",
       "1             0        1  At the age of 21 he settled in Paris. Thereaft...\n",
       "2             0        2  All of Chopin's compositions include the piano...\n",
       "3             0        3  In his native Poland, in France, where he comp...\n",
       "4             0        4  Fryderyk Chopin was born in Żelazowa Wola, 46 ...\n",
       "...         ...      ...                                                ...\n",
       "12826       293       24  Isaac Newton (1643–1727) inherited Descartes' ...\n",
       "12827       293       25  There is an entire literature concerning the \"...\n",
       "12828       293       26  In the late 19th century with the discovery of...\n",
       "12829       293       27  These quarks and leptons interact through four...\n",
       "12830       293       28  The term \"matter\" is used throughout physics i...\n",
       "\n",
       "[12831 rows x 3 columns]"
      ]
     },
     "execution_count": 8,
     "metadata": {},
     "output_type": "execute_result"
    }
   ],
   "source": [
    "db.paragraph"
   ]
  },
  {
   "cell_type": "markdown",
   "metadata": {},
   "source": [
    "#### Title/Para"
   ]
  },
  {
   "cell_type": "code",
   "execution_count": 9,
   "metadata": {},
   "outputs": [
    {
     "data": {
      "text/html": [
       "<div>\n",
       "<style scoped>\n",
       "    .dataframe tbody tr th:only-of-type {\n",
       "        vertical-align: middle;\n",
       "    }\n",
       "\n",
       "    .dataframe tbody tr th {\n",
       "        vertical-align: top;\n",
       "    }\n",
       "\n",
       "    .dataframe thead th {\n",
       "        text-align: right;\n",
       "    }\n",
       "</style>\n",
       "<table border=\"1\" class=\"dataframe\">\n",
       "  <thead>\n",
       "    <tr style=\"text-align: right;\">\n",
       "      <th></th>\n",
       "      <th>title</th>\n",
       "      <th>para_id</th>\n",
       "      <th>question</th>\n",
       "    </tr>\n",
       "    <tr>\n",
       "      <th>title_id</th>\n",
       "      <th></th>\n",
       "      <th></th>\n",
       "      <th></th>\n",
       "    </tr>\n",
       "  </thead>\n",
       "  <tbody>\n",
       "    <tr>\n",
       "      <th>0</th>\n",
       "      <td>Frédéric_Chopin</td>\n",
       "      <td>82</td>\n",
       "      <td>697</td>\n",
       "    </tr>\n",
       "    <tr>\n",
       "      <th>1</th>\n",
       "      <td>IPod</td>\n",
       "      <td>60</td>\n",
       "      <td>327</td>\n",
       "    </tr>\n",
       "    <tr>\n",
       "      <th>2</th>\n",
       "      <td>The_Legend_of_Zelda:_Twilight_Princess</td>\n",
       "      <td>32</td>\n",
       "      <td>374</td>\n",
       "    </tr>\n",
       "    <tr>\n",
       "      <th>3</th>\n",
       "      <td>Spectre_(2015_film)</td>\n",
       "      <td>43</td>\n",
       "      <td>462</td>\n",
       "    </tr>\n",
       "    <tr>\n",
       "      <th>4</th>\n",
       "      <td>2008_Sichuan_earthquake</td>\n",
       "      <td>77</td>\n",
       "      <td>521</td>\n",
       "    </tr>\n",
       "    <tr>\n",
       "      <th>...</th>\n",
       "      <td>...</td>\n",
       "      <td>...</td>\n",
       "      <td>...</td>\n",
       "    </tr>\n",
       "    <tr>\n",
       "      <th>289</th>\n",
       "      <td>Richmond,_Virginia</td>\n",
       "      <td>61</td>\n",
       "      <td>291</td>\n",
       "    </tr>\n",
       "    <tr>\n",
       "      <th>290</th>\n",
       "      <td>Infection</td>\n",
       "      <td>30</td>\n",
       "      <td>290</td>\n",
       "    </tr>\n",
       "    <tr>\n",
       "      <th>291</th>\n",
       "      <td>Kathmandu</td>\n",
       "      <td>58</td>\n",
       "      <td>276</td>\n",
       "    </tr>\n",
       "    <tr>\n",
       "      <th>292</th>\n",
       "      <td>Myocardial_infarction</td>\n",
       "      <td>26</td>\n",
       "      <td>126</td>\n",
       "    </tr>\n",
       "    <tr>\n",
       "      <th>293</th>\n",
       "      <td>Matter</td>\n",
       "      <td>29</td>\n",
       "      <td>142</td>\n",
       "    </tr>\n",
       "  </tbody>\n",
       "</table>\n",
       "<p>294 rows × 3 columns</p>\n",
       "</div>"
      ],
      "text/plain": [
       "                                           title  para_id  question\n",
       "title_id                                                           \n",
       "0                                Frédéric_Chopin       82       697\n",
       "1                                           IPod       60       327\n",
       "2         The_Legend_of_Zelda:_Twilight_Princess       32       374\n",
       "3                            Spectre_(2015_film)       43       462\n",
       "4                        2008_Sichuan_earthquake       77       521\n",
       "...                                          ...      ...       ...\n",
       "289                           Richmond,_Virginia       61       291\n",
       "290                                    Infection       30       290\n",
       "291                                    Kathmandu       58       276\n",
       "292                        Myocardial_infarction       26       126\n",
       "293                                       Matter       29       142\n",
       "\n",
       "[294 rows x 3 columns]"
      ]
     },
     "execution_count": 9,
     "metadata": {},
     "output_type": "execute_result"
    }
   ],
   "source": [
    "modeling.eda.summary(db)"
   ]
  },
  {
   "cell_type": "markdown",
   "metadata": {},
   "source": [
    "#### Question"
   ]
  },
  {
   "cell_type": "code",
   "execution_count": 10,
   "metadata": {},
   "outputs": [
    {
     "data": {
      "text/html": [
       "<div>\n",
       "<style scoped>\n",
       "    .dataframe tbody tr th:only-of-type {\n",
       "        vertical-align: middle;\n",
       "    }\n",
       "\n",
       "    .dataframe tbody tr th {\n",
       "        vertical-align: top;\n",
       "    }\n",
       "\n",
       "    .dataframe thead th {\n",
       "        text-align: right;\n",
       "    }\n",
       "</style>\n",
       "<table border=\"1\" class=\"dataframe\">\n",
       "  <thead>\n",
       "    <tr style=\"text-align: right;\">\n",
       "      <th></th>\n",
       "      <th>title_id</th>\n",
       "      <th>para_id</th>\n",
       "      <th>ques_ans_id</th>\n",
       "      <th>question</th>\n",
       "      <th>is_impossible</th>\n",
       "    </tr>\n",
       "  </thead>\n",
       "  <tbody>\n",
       "    <tr>\n",
       "      <th>0</th>\n",
       "      <td>0</td>\n",
       "      <td>0</td>\n",
       "      <td>56cbd2356d243a140015ed66</td>\n",
       "      <td>What was Frédéric's nationalities?</td>\n",
       "      <td>False</td>\n",
       "    </tr>\n",
       "    <tr>\n",
       "      <th>1</th>\n",
       "      <td>0</td>\n",
       "      <td>0</td>\n",
       "      <td>56cbd2356d243a140015ed67</td>\n",
       "      <td>In what era was Frédéric active in?</td>\n",
       "      <td>False</td>\n",
       "    </tr>\n",
       "    <tr>\n",
       "      <th>2</th>\n",
       "      <td>0</td>\n",
       "      <td>0</td>\n",
       "      <td>56cbd2356d243a140015ed68</td>\n",
       "      <td>For what instrument did Frédéric write primari...</td>\n",
       "      <td>False</td>\n",
       "    </tr>\n",
       "    <tr>\n",
       "      <th>3</th>\n",
       "      <td>0</td>\n",
       "      <td>0</td>\n",
       "      <td>56cbd2356d243a140015ed69</td>\n",
       "      <td>In what area was Frédéric born in?</td>\n",
       "      <td>False</td>\n",
       "    </tr>\n",
       "    <tr>\n",
       "      <th>4</th>\n",
       "      <td>0</td>\n",
       "      <td>0</td>\n",
       "      <td>56cbd2356d243a140015ed6a</td>\n",
       "      <td>At what age did Frédéric depart from Poland?</td>\n",
       "      <td>False</td>\n",
       "    </tr>\n",
       "    <tr>\n",
       "      <th>...</th>\n",
       "      <td>...</td>\n",
       "      <td>...</td>\n",
       "      <td>...</td>\n",
       "      <td>...</td>\n",
       "      <td>...</td>\n",
       "    </tr>\n",
       "    <tr>\n",
       "      <th>86563</th>\n",
       "      <td>293</td>\n",
       "      <td>28</td>\n",
       "      <td>5a7e070b70df9f001a875439</td>\n",
       "      <td>Physics has broadly agreed on the definition o...</td>\n",
       "      <td>True</td>\n",
       "    </tr>\n",
       "    <tr>\n",
       "      <th>86564</th>\n",
       "      <td>293</td>\n",
       "      <td>28</td>\n",
       "      <td>5a7e070b70df9f001a87543a</td>\n",
       "      <td>Who coined the term partonic matter?</td>\n",
       "      <td>True</td>\n",
       "    </tr>\n",
       "    <tr>\n",
       "      <th>86565</th>\n",
       "      <td>293</td>\n",
       "      <td>28</td>\n",
       "      <td>5a7e070b70df9f001a87543b</td>\n",
       "      <td>What is another name for anti-matter?</td>\n",
       "      <td>True</td>\n",
       "    </tr>\n",
       "    <tr>\n",
       "      <th>86566</th>\n",
       "      <td>293</td>\n",
       "      <td>28</td>\n",
       "      <td>5a7e070b70df9f001a87543c</td>\n",
       "      <td>Matter usually does not need to be used in con...</td>\n",
       "      <td>True</td>\n",
       "    </tr>\n",
       "    <tr>\n",
       "      <th>86567</th>\n",
       "      <td>293</td>\n",
       "      <td>28</td>\n",
       "      <td>5a7e070b70df9f001a87543d</td>\n",
       "      <td>What field of study has a variety of unusual c...</td>\n",
       "      <td>True</td>\n",
       "    </tr>\n",
       "  </tbody>\n",
       "</table>\n",
       "<p>86568 rows × 5 columns</p>\n",
       "</div>"
      ],
      "text/plain": [
       "       title_id  para_id               ques_ans_id  \\\n",
       "0             0        0  56cbd2356d243a140015ed66   \n",
       "1             0        0  56cbd2356d243a140015ed67   \n",
       "2             0        0  56cbd2356d243a140015ed68   \n",
       "3             0        0  56cbd2356d243a140015ed69   \n",
       "4             0        0  56cbd2356d243a140015ed6a   \n",
       "...         ...      ...                       ...   \n",
       "86563       293       28  5a7e070b70df9f001a875439   \n",
       "86564       293       28  5a7e070b70df9f001a87543a   \n",
       "86565       293       28  5a7e070b70df9f001a87543b   \n",
       "86566       293       28  5a7e070b70df9f001a87543c   \n",
       "86567       293       28  5a7e070b70df9f001a87543d   \n",
       "\n",
       "                                                question  is_impossible  \n",
       "0                     What was Frédéric's nationalities?          False  \n",
       "1                    In what era was Frédéric active in?          False  \n",
       "2      For what instrument did Frédéric write primari...          False  \n",
       "3                     In what area was Frédéric born in?          False  \n",
       "4           At what age did Frédéric depart from Poland?          False  \n",
       "...                                                  ...            ...  \n",
       "86563  Physics has broadly agreed on the definition o...           True  \n",
       "86564               Who coined the term partonic matter?           True  \n",
       "86565              What is another name for anti-matter?           True  \n",
       "86566  Matter usually does not need to be used in con...           True  \n",
       "86567  What field of study has a variety of unusual c...           True  \n",
       "\n",
       "[86568 rows x 5 columns]"
      ]
     },
     "execution_count": 10,
     "metadata": {},
     "output_type": "execute_result"
    }
   ],
   "source": [
    "db.ques_ans"
   ]
  },
  {
   "cell_type": "markdown",
   "metadata": {},
   "source": [
    "#### Answer "
   ]
  },
  {
   "cell_type": "code",
   "execution_count": 11,
   "metadata": {},
   "outputs": [
    {
     "data": {
      "text/html": [
       "<div>\n",
       "<style scoped>\n",
       "    .dataframe tbody tr th:only-of-type {\n",
       "        vertical-align: middle;\n",
       "    }\n",
       "\n",
       "    .dataframe tbody tr th {\n",
       "        vertical-align: top;\n",
       "    }\n",
       "\n",
       "    .dataframe thead th {\n",
       "        text-align: right;\n",
       "    }\n",
       "</style>\n",
       "<table border=\"1\" class=\"dataframe\">\n",
       "  <thead>\n",
       "    <tr style=\"text-align: right;\">\n",
       "      <th></th>\n",
       "      <th>ques_ans_id</th>\n",
       "      <th>ans_id</th>\n",
       "      <th>answer</th>\n",
       "      <th>answer_start</th>\n",
       "    </tr>\n",
       "  </thead>\n",
       "  <tbody>\n",
       "    <tr>\n",
       "      <th>0</th>\n",
       "      <td>56cbd2356d243a140015ed66</td>\n",
       "      <td>0</td>\n",
       "      <td>Polish and French</td>\n",
       "      <td>182</td>\n",
       "    </tr>\n",
       "    <tr>\n",
       "      <th>1</th>\n",
       "      <td>56cbd2356d243a140015ed67</td>\n",
       "      <td>0</td>\n",
       "      <td>Romantic era</td>\n",
       "      <td>276</td>\n",
       "    </tr>\n",
       "    <tr>\n",
       "      <th>2</th>\n",
       "      <td>56cbd2356d243a140015ed68</td>\n",
       "      <td>0</td>\n",
       "      <td>solo piano</td>\n",
       "      <td>318</td>\n",
       "    </tr>\n",
       "    <tr>\n",
       "      <th>3</th>\n",
       "      <td>56cbd2356d243a140015ed69</td>\n",
       "      <td>0</td>\n",
       "      <td>Duchy of Warsaw</td>\n",
       "      <td>559</td>\n",
       "    </tr>\n",
       "    <tr>\n",
       "      <th>4</th>\n",
       "      <td>56cbd2356d243a140015ed6a</td>\n",
       "      <td>0</td>\n",
       "      <td>20</td>\n",
       "      <td>777</td>\n",
       "    </tr>\n",
       "    <tr>\n",
       "      <th>...</th>\n",
       "      <td>...</td>\n",
       "      <td>...</td>\n",
       "      <td>...</td>\n",
       "      <td>...</td>\n",
       "    </tr>\n",
       "    <tr>\n",
       "      <th>58596</th>\n",
       "      <td>5735d259012e2f140011a09d</td>\n",
       "      <td>0</td>\n",
       "      <td>Oregon</td>\n",
       "      <td>229</td>\n",
       "    </tr>\n",
       "    <tr>\n",
       "      <th>58597</th>\n",
       "      <td>5735d259012e2f140011a09e</td>\n",
       "      <td>0</td>\n",
       "      <td>Rangoon</td>\n",
       "      <td>414</td>\n",
       "    </tr>\n",
       "    <tr>\n",
       "      <th>58598</th>\n",
       "      <td>5735d259012e2f140011a09f</td>\n",
       "      <td>0</td>\n",
       "      <td>Minsk</td>\n",
       "      <td>476</td>\n",
       "    </tr>\n",
       "    <tr>\n",
       "      <th>58599</th>\n",
       "      <td>5735d259012e2f140011a0a0</td>\n",
       "      <td>0</td>\n",
       "      <td>1975</td>\n",
       "      <td>199</td>\n",
       "    </tr>\n",
       "    <tr>\n",
       "      <th>58600</th>\n",
       "      <td>5735d259012e2f140011a0a1</td>\n",
       "      <td>0</td>\n",
       "      <td>Kathmandu Metropolitan City</td>\n",
       "      <td>0</td>\n",
       "    </tr>\n",
       "  </tbody>\n",
       "</table>\n",
       "<p>58601 rows × 4 columns</p>\n",
       "</div>"
      ],
      "text/plain": [
       "                    ques_ans_id  ans_id                       answer  \\\n",
       "0      56cbd2356d243a140015ed66       0            Polish and French   \n",
       "1      56cbd2356d243a140015ed67       0                 Romantic era   \n",
       "2      56cbd2356d243a140015ed68       0                   solo piano   \n",
       "3      56cbd2356d243a140015ed69       0              Duchy of Warsaw   \n",
       "4      56cbd2356d243a140015ed6a       0                           20   \n",
       "...                         ...     ...                          ...   \n",
       "58596  5735d259012e2f140011a09d       0                       Oregon   \n",
       "58597  5735d259012e2f140011a09e       0                      Rangoon   \n",
       "58598  5735d259012e2f140011a09f       0                        Minsk   \n",
       "58599  5735d259012e2f140011a0a0       0                         1975   \n",
       "58600  5735d259012e2f140011a0a1       0  Kathmandu Metropolitan City   \n",
       "\n",
       "       answer_start  \n",
       "0               182  \n",
       "1               276  \n",
       "2               318  \n",
       "3               559  \n",
       "4               777  \n",
       "...             ...  \n",
       "58596           229  \n",
       "58597           414  \n",
       "58598           476  \n",
       "58599           199  \n",
       "58600             0  \n",
       "\n",
       "[58601 rows x 4 columns]"
      ]
     },
     "execution_count": 11,
     "metadata": {},
     "output_type": "execute_result"
    }
   ],
   "source": [
    "db.answer"
   ]
  },
  {
   "cell_type": "markdown",
   "metadata": {},
   "source": [
    "## Train Test"
   ]
  },
  {
   "cell_type": "code",
   "execution_count": 312,
   "metadata": {},
   "outputs": [],
   "source": [
    "train, dev = model_selection.train_test_split(\n",
    "    dbs.paragraph, stratify=dbs.paragraph.title_id\n",
    ")"
   ]
  },
  {
   "cell_type": "code",
   "execution_count": 323,
   "metadata": {},
   "outputs": [],
   "source": [
    "def make_report(y_true, y_pred) -> pd.DataFrame:\n",
    "    return pd.DataFrame(\n",
    "        metrics.classification_report(y_true, y_pred, output_dict=True, zero_division=0)\n",
    "    ).T"
   ]
  },
  {
   "cell_type": "code",
   "execution_count": 413,
   "metadata": {},
   "outputs": [],
   "source": [
    "def summarize_report(class_report: pd.DataFrame) -> pd.DataFrame:\n",
    "    prec_rec_f1_df = class_report.iloc[:-3]\n",
    "    support = np.clip(np.log(prec_rec_f1_df['support'] + 1e-6), 0, None).to_numpy()\n",
    "    prec_rec_f1 = (\n",
    "        prec_rec_f1_df.loc[:, :'f1-score'] * support.reshape(-1, 1)\n",
    "    ).sum() / support.sum()\n",
    "    rest = class_report.iloc[-3:, 0]\n",
    "    return pd.concat([prec_rec_f1, rest]).to_frame('Values')"
   ]
  },
  {
   "cell_type": "markdown",
   "metadata": {},
   "source": [
    "## Doc2Vec"
   ]
  },
  {
   "cell_type": "code",
   "execution_count": 317,
   "metadata": {},
   "outputs": [],
   "source": [
    "def make_docs(para: pd.DataFrame) -> list[doc2vec.TaggedDocument]:\n",
    "    documents = [\n",
    "        doc2vec.TaggedDocument(modeling.preprocess.main(txt), [title])\n",
    "        for title, para, txt in db.paragraph.to_numpy()\n",
    "    ]\n",
    "    return documents\n",
    "\n",
    "\n",
    "# documents = [doc2vec.TaggedDocument(preprocess(txt), [f'{title}-{para}']) for title, para, txt in db.paragraph.to_numpy()]"
   ]
  },
  {
   "cell_type": "code",
   "execution_count": 320,
   "metadata": {},
   "outputs": [],
   "source": [
    "train_docs = make_docs(train)"
   ]
  },
  {
   "cell_type": "markdown",
   "metadata": {},
   "source": [
    "#### Model 1"
   ]
  },
  {
   "cell_type": "code",
   "execution_count": 408,
   "metadata": {},
   "outputs": [],
   "source": [
    "# doc_model = doc2vec.Doc2Vec(vector_size=100)\n",
    "# doc_model.build_vocab(documents)\n",
    "# doc_model.train(train_docs, total_examples=doc_model.corpus_count, epochs=10)"
   ]
  },
  {
   "cell_type": "code",
   "execution_count": 409,
   "metadata": {},
   "outputs": [],
   "source": [
    "# doc_model.save('doc2vec-100.joblib')"
   ]
  },
  {
   "cell_type": "code",
   "execution_count": 391,
   "metadata": {},
   "outputs": [],
   "source": [
    "doc_model = doc2vec.Doc2Vec.load('doc2vec-100.joblib')"
   ]
  },
  {
   "cell_type": "code",
   "execution_count": 407,
   "metadata": {},
   "outputs": [],
   "source": [
    "vecs = [doc_model.infer_vector(doc.words) for doc in train_docs]"
   ]
  },
  {
   "cell_type": "code",
   "execution_count": 393,
   "metadata": {},
   "outputs": [],
   "source": [
    "paras = db.paragraph.title_id"
   ]
  },
  {
   "cell_type": "code",
   "execution_count": 394,
   "metadata": {},
   "outputs": [],
   "source": [
    "log_clf = linear_model.LogisticRegressionCV(solver='sag')"
   ]
  },
  {
   "cell_type": "code",
   "execution_count": 397,
   "metadata": {},
   "outputs": [],
   "source": [
    "scaler = preprocessing.StandardScaler()"
   ]
  },
  {
   "cell_type": "code",
   "execution_count": 398,
   "metadata": {},
   "outputs": [],
   "source": [
    "scaled = scaler.fit_transform(vecs)"
   ]
  },
  {
   "cell_type": "code",
   "execution_count": 403,
   "metadata": {},
   "outputs": [],
   "source": [
    "log_clf.fit(scaled, paras)"
   ]
  },
  {
   "cell_type": "code",
   "execution_count": 404,
   "metadata": {},
   "outputs": [
    {
     "data": {
      "text/html": [
       "<div>\n",
       "<style scoped>\n",
       "    .dataframe tbody tr th:only-of-type {\n",
       "        vertical-align: middle;\n",
       "    }\n",
       "\n",
       "    .dataframe tbody tr th {\n",
       "        vertical-align: top;\n",
       "    }\n",
       "\n",
       "    .dataframe thead th {\n",
       "        text-align: right;\n",
       "    }\n",
       "</style>\n",
       "<table border=\"1\" class=\"dataframe\">\n",
       "  <thead>\n",
       "    <tr style=\"text-align: right;\">\n",
       "      <th></th>\n",
       "      <th>title_id</th>\n",
       "      <th>para_id</th>\n",
       "      <th>context</th>\n",
       "    </tr>\n",
       "  </thead>\n",
       "  <tbody>\n",
       "    <tr>\n",
       "      <th>9583</th>\n",
       "      <td>215</td>\n",
       "      <td>7</td>\n",
       "      <td>Apollo was worshipped as Actiacus (/ækˈtaɪ.əkə...</td>\n",
       "    </tr>\n",
       "    <tr>\n",
       "      <th>11789</th>\n",
       "      <td>273</td>\n",
       "      <td>35</td>\n",
       "      <td>Only scant remains prove that mosaics were sti...</td>\n",
       "    </tr>\n",
       "    <tr>\n",
       "      <th>8306</th>\n",
       "      <td>187</td>\n",
       "      <td>28</td>\n",
       "      <td>Deforestation and forest fires are a problem i...</td>\n",
       "    </tr>\n",
       "    <tr>\n",
       "      <th>7744</th>\n",
       "      <td>173</td>\n",
       "      <td>21</td>\n",
       "      <td>Proponents of affirmative action argue that by...</td>\n",
       "    </tr>\n",
       "    <tr>\n",
       "      <th>7206</th>\n",
       "      <td>159</td>\n",
       "      <td>14</td>\n",
       "      <td>World War I was a watershed event in human his...</td>\n",
       "    </tr>\n",
       "    <tr>\n",
       "      <th>...</th>\n",
       "      <td>...</td>\n",
       "      <td>...</td>\n",
       "      <td>...</td>\n",
       "    </tr>\n",
       "    <tr>\n",
       "      <th>10898</th>\n",
       "      <td>250</td>\n",
       "      <td>51</td>\n",
       "      <td>As of 2012[update], there are over 3.5 million...</td>\n",
       "    </tr>\n",
       "    <tr>\n",
       "      <th>10292</th>\n",
       "      <td>237</td>\n",
       "      <td>33</td>\n",
       "      <td>In April 1758, the British concluded the Anglo...</td>\n",
       "    </tr>\n",
       "    <tr>\n",
       "      <th>10325</th>\n",
       "      <td>238</td>\n",
       "      <td>5</td>\n",
       "      <td>Gaddafi's earliest education was of a religiou...</td>\n",
       "    </tr>\n",
       "    <tr>\n",
       "      <th>5788</th>\n",
       "      <td>128</td>\n",
       "      <td>53</td>\n",
       "      <td>The official Cubs team mascot is a young bear ...</td>\n",
       "    </tr>\n",
       "    <tr>\n",
       "      <th>5481</th>\n",
       "      <td>122</td>\n",
       "      <td>55</td>\n",
       "      <td>Before the Hellenistic period, Greek colonies ...</td>\n",
       "    </tr>\n",
       "  </tbody>\n",
       "</table>\n",
       "<p>9623 rows × 3 columns</p>\n",
       "</div>"
      ],
      "text/plain": [
       "       title_id  para_id                                            context\n",
       "9583        215        7  Apollo was worshipped as Actiacus (/ækˈtaɪ.əkə...\n",
       "11789       273       35  Only scant remains prove that mosaics were sti...\n",
       "8306        187       28  Deforestation and forest fires are a problem i...\n",
       "7744        173       21  Proponents of affirmative action argue that by...\n",
       "7206        159       14  World War I was a watershed event in human his...\n",
       "...         ...      ...                                                ...\n",
       "10898       250       51  As of 2012[update], there are over 3.5 million...\n",
       "10292       237       33  In April 1758, the British concluded the Anglo...\n",
       "10325       238        5  Gaddafi's earliest education was of a religiou...\n",
       "5788        128       53  The official Cubs team mascot is a young bear ...\n",
       "5481        122       55  Before the Hellenistic period, Greek colonies ...\n",
       "\n",
       "[9623 rows x 3 columns]"
      ]
     },
     "execution_count": 404,
     "metadata": {},
     "output_type": "execute_result"
    }
   ],
   "source": [
    "train"
   ]
  },
  {
   "cell_type": "code",
   "execution_count": 410,
   "metadata": {},
   "outputs": [],
   "source": [
    "pred_tags = modeling.evaluate.results(train['context'], doc_model, epochs=5)"
   ]
  },
  {
   "cell_type": "code",
   "execution_count": 416,
   "metadata": {},
   "outputs": [
    {
     "data": {
      "text/html": [
       "<div>\n",
       "<style scoped>\n",
       "    .dataframe tbody tr th:only-of-type {\n",
       "        vertical-align: middle;\n",
       "    }\n",
       "\n",
       "    .dataframe tbody tr th {\n",
       "        vertical-align: top;\n",
       "    }\n",
       "\n",
       "    .dataframe thead th {\n",
       "        text-align: right;\n",
       "    }\n",
       "</style>\n",
       "<table border=\"1\" class=\"dataframe\">\n",
       "  <thead>\n",
       "    <tr style=\"text-align: right;\">\n",
       "      <th></th>\n",
       "      <th>Values</th>\n",
       "    </tr>\n",
       "  </thead>\n",
       "  <tbody>\n",
       "    <tr>\n",
       "      <th>precision</th>\n",
       "      <td>0.727777</td>\n",
       "    </tr>\n",
       "    <tr>\n",
       "      <th>recall</th>\n",
       "      <td>0.679213</td>\n",
       "    </tr>\n",
       "    <tr>\n",
       "      <th>f1-score</th>\n",
       "      <td>0.663283</td>\n",
       "    </tr>\n",
       "    <tr>\n",
       "      <th>accuracy</th>\n",
       "      <td>0.665697</td>\n",
       "    </tr>\n",
       "    <tr>\n",
       "      <th>macro avg</th>\n",
       "      <td>0.704003</td>\n",
       "    </tr>\n",
       "    <tr>\n",
       "      <th>weighted avg</th>\n",
       "      <td>0.779773</td>\n",
       "    </tr>\n",
       "  </tbody>\n",
       "</table>\n",
       "</div>"
      ],
      "text/plain": [
       "                Values\n",
       "precision     0.727777\n",
       "recall        0.679213\n",
       "f1-score      0.663283\n",
       "accuracy      0.665697\n",
       "macro avg     0.704003\n",
       "weighted avg  0.779773"
      ]
     },
     "execution_count": 416,
     "metadata": {},
     "output_type": "execute_result"
    }
   ],
   "source": [
    "summarize_report(make_report(train.title_id, pred_tags))"
   ]
  },
  {
   "cell_type": "code",
   "execution_count": 417,
   "metadata": {},
   "outputs": [],
   "source": [
    "dev_tags = modeling.evaluate.results(dev['context'], doc_model, epochs=5)"
   ]
  },
  {
   "cell_type": "code",
   "execution_count": 418,
   "metadata": {},
   "outputs": [
    {
     "data": {
      "text/html": [
       "<div>\n",
       "<style scoped>\n",
       "    .dataframe tbody tr th:only-of-type {\n",
       "        vertical-align: middle;\n",
       "    }\n",
       "\n",
       "    .dataframe tbody tr th {\n",
       "        vertical-align: top;\n",
       "    }\n",
       "\n",
       "    .dataframe thead th {\n",
       "        text-align: right;\n",
       "    }\n",
       "</style>\n",
       "<table border=\"1\" class=\"dataframe\">\n",
       "  <thead>\n",
       "    <tr style=\"text-align: right;\">\n",
       "      <th></th>\n",
       "      <th>Values</th>\n",
       "    </tr>\n",
       "  </thead>\n",
       "  <tbody>\n",
       "    <tr>\n",
       "      <th>precision</th>\n",
       "      <td>0.752931</td>\n",
       "    </tr>\n",
       "    <tr>\n",
       "      <th>recall</th>\n",
       "      <td>0.686947</td>\n",
       "    </tr>\n",
       "    <tr>\n",
       "      <th>f1-score</th>\n",
       "      <td>0.675623</td>\n",
       "    </tr>\n",
       "    <tr>\n",
       "      <th>accuracy</th>\n",
       "      <td>0.675810</td>\n",
       "    </tr>\n",
       "    <tr>\n",
       "      <th>macro avg</th>\n",
       "      <td>0.716798</td>\n",
       "    </tr>\n",
       "    <tr>\n",
       "      <th>weighted avg</th>\n",
       "      <td>0.791727</td>\n",
       "    </tr>\n",
       "  </tbody>\n",
       "</table>\n",
       "</div>"
      ],
      "text/plain": [
       "                Values\n",
       "precision     0.752931\n",
       "recall        0.686947\n",
       "f1-score      0.675623\n",
       "accuracy      0.675810\n",
       "macro avg     0.716798\n",
       "weighted avg  0.791727"
      ]
     },
     "execution_count": 418,
     "metadata": {},
     "output_type": "execute_result"
    }
   ],
   "source": [
    "summarize_report(make_report(dev.title_id, dev_tags))"
   ]
  },
  {
   "cell_type": "code",
   "execution_count": 420,
   "metadata": {},
   "outputs": [],
   "source": [
    "test_tags = modeling.evaluate.results(test['question'], doc_model, epochs=5)"
   ]
  },
  {
   "cell_type": "code",
   "execution_count": 33,
   "metadata": {},
   "outputs": [],
   "source": [
    "# _N = os.cpu_count()\n",
    "# sections = mit.distribute(_N, db.paragraph['context'])\n",
    "# with mp.Pool(_N) as pool:\n",
    "#     res = list(mit.flatten(pool.map(modeling.evaluate.Eval(doc_model1), sections)))"
   ]
  },
  {
   "cell_type": "code",
   "execution_count": 422,
   "metadata": {},
   "outputs": [
    {
     "data": {
      "text/html": [
       "<div>\n",
       "<style scoped>\n",
       "    .dataframe tbody tr th:only-of-type {\n",
       "        vertical-align: middle;\n",
       "    }\n",
       "\n",
       "    .dataframe tbody tr th {\n",
       "        vertical-align: top;\n",
       "    }\n",
       "\n",
       "    .dataframe thead th {\n",
       "        text-align: right;\n",
       "    }\n",
       "</style>\n",
       "<table border=\"1\" class=\"dataframe\">\n",
       "  <thead>\n",
       "    <tr style=\"text-align: right;\">\n",
       "      <th></th>\n",
       "      <th>Values</th>\n",
       "    </tr>\n",
       "  </thead>\n",
       "  <tbody>\n",
       "    <tr>\n",
       "      <th>precision</th>\n",
       "      <td>0.331330</td>\n",
       "    </tr>\n",
       "    <tr>\n",
       "      <th>recall</th>\n",
       "      <td>0.257187</td>\n",
       "    </tr>\n",
       "    <tr>\n",
       "      <th>f1-score</th>\n",
       "      <td>0.266579</td>\n",
       "    </tr>\n",
       "    <tr>\n",
       "      <th>accuracy</th>\n",
       "      <td>0.262060</td>\n",
       "    </tr>\n",
       "    <tr>\n",
       "      <th>macro avg</th>\n",
       "      <td>0.322313</td>\n",
       "    </tr>\n",
       "    <tr>\n",
       "      <th>weighted avg</th>\n",
       "      <td>0.370558</td>\n",
       "    </tr>\n",
       "  </tbody>\n",
       "</table>\n",
       "</div>"
      ],
      "text/plain": [
       "                Values\n",
       "precision     0.331330\n",
       "recall        0.257187\n",
       "f1-score      0.266579\n",
       "accuracy      0.262060\n",
       "macro avg     0.322313\n",
       "weighted avg  0.370558"
      ]
     },
     "execution_count": 422,
     "metadata": {},
     "output_type": "execute_result"
    }
   ],
   "source": [
    "summarize_report(make_report(test.title_id, test_tags))"
   ]
  },
  {
   "cell_type": "markdown",
   "metadata": {},
   "source": [
    "## Ques_ans pred"
   ]
  },
  {
   "cell_type": "code",
   "execution_count": 39,
   "metadata": {},
   "outputs": [],
   "source": [
    "qa_tags = modeling.evaluate.results(db.ques_ans['question'], doc_model)"
   ]
  },
  {
   "cell_type": "code",
   "execution_count": 365,
   "metadata": {},
   "outputs": [],
   "source": [
    "print(metrics.classification_report(db.ques_ans.title_id, pred_tags))"
   ]
  },
  {
   "cell_type": "code",
   "execution_count": 116,
   "metadata": {},
   "outputs": [
    {
     "data": {
      "text/plain": [
       "\"Greater London's population declined steadily in the decades after the Second World War, from an estimated peak of 8.6 million in 1939 to around 6.8 million in the 1980s. The principal ports for London moved downstream to Felixstowe and Tilbury, with the London Docklands area becoming a focus for regeneration, including the Canary Wharf development. This was borne out of London's ever-increasing role as a major international financial centre during the 1980s. The Thames Barrier was completed in the 1980s to protect London against tidal surges from the North Sea.\""
      ]
     },
     "execution_count": 116,
     "metadata": {},
     "output_type": "execute_result"
    }
   ],
   "source": [
    "modeling.eda.get_context(db, 192, 17)"
   ]
  },
  {
   "cell_type": "markdown",
   "metadata": {},
   "source": [
    "## BERT"
   ]
  },
  {
   "cell_type": "code",
   "execution_count": 16,
   "metadata": {},
   "outputs": [],
   "source": [
    "from sklearn.feature_extraction.text import TfidfVectorizer\n",
    "from sklearn import metrics"
   ]
  },
  {
   "cell_type": "code",
   "execution_count": 58,
   "metadata": {},
   "outputs": [
    {
     "name": "stdout",
     "output_type": "stream",
     "text": [
      "0.6872309899569584\n"
     ]
    }
   ],
   "source": [
    "print(metrics.accuracy_score(id_0.ques_ans.para_id, res))"
   ]
  },
  {
   "cell_type": "markdown",
   "metadata": {},
   "source": [
    "### TF-IDF"
   ]
  },
  {
   "cell_type": "code",
   "execution_count": 108,
   "metadata": {},
   "outputs": [],
   "source": [
    "vec = TfidfVectorizer(strip_accents='ascii', max_df=0.9)"
   ]
  },
  {
   "cell_type": "code",
   "execution_count": 110,
   "metadata": {},
   "outputs": [
    {
     "data": {
      "text/plain": [
       "TfidfVectorizer(max_df=0.9, strip_accents='ascii')"
      ]
     },
     "execution_count": 110,
     "metadata": {},
     "output_type": "execute_result"
    }
   ],
   "source": [
    "vec.fit(id_0.paragraph['context'])"
   ]
  },
  {
   "cell_type": "code",
   "execution_count": 112,
   "metadata": {},
   "outputs": [],
   "source": [
    "t = id_0.paragraph"
   ]
  },
  {
   "cell_type": "code",
   "execution_count": 115,
   "metadata": {},
   "outputs": [],
   "source": [
    "trans = vec.transform(t['context'])"
   ]
  },
  {
   "cell_type": "code",
   "execution_count": 172,
   "metadata": {},
   "outputs": [
    {
     "data": {
      "text/plain": [
       "\"Chopin's qualities as a pianist and composer were recognized by many of his fellow musicians. Schumann named a piece for him in his suite Carnaval, and Chopin later dedicated his Ballade No. 2 in F major to Schumann. Elements of Chopin's music can be traced in many of Liszt's later works. Liszt later transcribed for piano six of Chopin's Polish songs. A less fraught friendship was with Alkan, with whom he discussed elements of folk music, and who was deeply affected by Chopin's death.\""
      ]
     },
     "execution_count": 172,
     "metadata": {},
     "output_type": "execute_result"
    }
   ],
   "source": [
    "unidecode(modeling.eda.get_context(db, 0, 80))"
   ]
  },
  {
   "cell_type": "code",
   "execution_count": 174,
   "metadata": {},
   "outputs": [],
   "source": [
    "_text = '''What other musician shows to have elements'''\n",
    "# res = metrics.pairwise_distances(trans, vec.transform([t['context'][0]]), metric='cosine')\n",
    "res = metrics.pairwise_distances(trans, vec.transform([_text]), metric='cosine')"
   ]
  },
  {
   "cell_type": "code",
   "execution_count": 176,
   "metadata": {},
   "outputs": [],
   "source": [
    "idxs = np.argsort(res, axis=0).ravel()"
   ]
  },
  {
   "cell_type": "code",
   "execution_count": 177,
   "metadata": {},
   "outputs": [
    {
     "data": {
      "text/plain": [
       "array([[0.82322305],\n",
       "       [0.90158308],\n",
       "       [0.90901296],\n",
       "       [0.90911767],\n",
       "       [0.91320089],\n",
       "       [0.92096742],\n",
       "       [0.92273303],\n",
       "       [0.92468014],\n",
       "       [0.93144871],\n",
       "       [0.93532793]])"
      ]
     },
     "execution_count": 177,
     "metadata": {},
     "output_type": "execute_result"
    }
   ],
   "source": [
    "res[idxs[:10]]"
   ]
  },
  {
   "cell_type": "code",
   "execution_count": 178,
   "metadata": {},
   "outputs": [
    {
     "data": {
      "text/html": [
       "<div>\n",
       "<style scoped>\n",
       "    .dataframe tbody tr th:only-of-type {\n",
       "        vertical-align: middle;\n",
       "    }\n",
       "\n",
       "    .dataframe tbody tr th {\n",
       "        vertical-align: top;\n",
       "    }\n",
       "\n",
       "    .dataframe thead th {\n",
       "        text-align: right;\n",
       "    }\n",
       "</style>\n",
       "<table border=\"1\" class=\"dataframe\">\n",
       "  <thead>\n",
       "    <tr style=\"text-align: right;\">\n",
       "      <th></th>\n",
       "      <th>title_id</th>\n",
       "      <th>para_id</th>\n",
       "      <th>context</th>\n",
       "    </tr>\n",
       "  </thead>\n",
       "  <tbody>\n",
       "    <tr>\n",
       "      <th>80</th>\n",
       "      <td>0</td>\n",
       "      <td>80</td>\n",
       "      <td>Chopin's qualities as a pianist and composer w...</td>\n",
       "    </tr>\n",
       "    <tr>\n",
       "      <th>73</th>\n",
       "      <td>0</td>\n",
       "      <td>73</td>\n",
       "      <td>Jonathan Bellman writes that modern concert pe...</td>\n",
       "    </tr>\n",
       "    <tr>\n",
       "      <th>22</th>\n",
       "      <td>0</td>\n",
       "      <td>22</td>\n",
       "      <td>Although it is not known exactly when Chopin f...</td>\n",
       "    </tr>\n",
       "    <tr>\n",
       "      <th>31</th>\n",
       "      <td>0</td>\n",
       "      <td>31</td>\n",
       "      <td>From 1842 onwards, Chopin showed signs of seri...</td>\n",
       "    </tr>\n",
       "    <tr>\n",
       "      <th>21</th>\n",
       "      <td>0</td>\n",
       "      <td>21</td>\n",
       "      <td>In the spring of 1834, Chopin attended the Low...</td>\n",
       "    </tr>\n",
       "    <tr>\n",
       "      <th>69</th>\n",
       "      <td>0</td>\n",
       "      <td>69</td>\n",
       "      <td>The two mature piano sonatas (No. 2, Op. 35, w...</td>\n",
       "    </tr>\n",
       "    <tr>\n",
       "      <th>36</th>\n",
       "      <td>0</td>\n",
       "      <td>36</td>\n",
       "      <td>Chopin's life and his relations with George Sa...</td>\n",
       "    </tr>\n",
       "    <tr>\n",
       "      <th>24</th>\n",
       "      <td>0</td>\n",
       "      <td>24</td>\n",
       "      <td>Although the two displayed great respect and a...</td>\n",
       "    </tr>\n",
       "    <tr>\n",
       "      <th>50</th>\n",
       "      <td>0</td>\n",
       "      <td>50</td>\n",
       "      <td>Chopin's disease and the cause of his death ha...</td>\n",
       "    </tr>\n",
       "    <tr>\n",
       "      <th>44</th>\n",
       "      <td>0</td>\n",
       "      <td>44</td>\n",
       "      <td>In London Chopin took lodgings at Dover Street...</td>\n",
       "    </tr>\n",
       "  </tbody>\n",
       "</table>\n",
       "</div>"
      ],
      "text/plain": [
       "    title_id  para_id                                            context\n",
       "80         0       80  Chopin's qualities as a pianist and composer w...\n",
       "73         0       73  Jonathan Bellman writes that modern concert pe...\n",
       "22         0       22  Although it is not known exactly when Chopin f...\n",
       "31         0       31  From 1842 onwards, Chopin showed signs of seri...\n",
       "21         0       21  In the spring of 1834, Chopin attended the Low...\n",
       "69         0       69  The two mature piano sonatas (No. 2, Op. 35, w...\n",
       "36         0       36  Chopin's life and his relations with George Sa...\n",
       "24         0       24  Although the two displayed great respect and a...\n",
       "50         0       50  Chopin's disease and the cause of his death ha...\n",
       "44         0       44  In London Chopin took lodgings at Dover Street..."
      ]
     },
     "execution_count": 178,
     "metadata": {},
     "output_type": "execute_result"
    }
   ],
   "source": [
    "t.iloc[idxs[:10]]"
   ]
  },
  {
   "cell_type": "markdown",
   "metadata": {
    "jp-MarkdownHeadingCollapsed": true,
    "tags": []
   },
   "source": [
    "### Basic Classifier"
   ]
  },
  {
   "cell_type": "code",
   "execution_count": 17,
   "metadata": {},
   "outputs": [],
   "source": [
    "vec, svd, X, y = modeling.model.svd(db)"
   ]
  },
  {
   "cell_type": "code",
   "execution_count": 23,
   "metadata": {},
   "outputs": [],
   "source": [
    "from sklearn.preprocessing import MinMaxScaler"
   ]
  },
  {
   "cell_type": "code",
   "execution_count": 24,
   "metadata": {},
   "outputs": [],
   "source": [
    "min_max = MinMaxScaler()"
   ]
  },
  {
   "cell_type": "code",
   "execution_count": null,
   "metadata": {},
   "outputs": [],
   "source": []
  },
  {
   "cell_type": "code",
   "execution_count": 30,
   "metadata": {},
   "outputs": [],
   "source": [
    "trans_title = min_max.fit_transform(db.title.title_id.to_numpy().reshape(-1, 1))"
   ]
  },
  {
   "cell_type": "code",
   "execution_count": 22,
   "metadata": {},
   "outputs": [
    {
     "data": {
      "text/html": [
       "<div>\n",
       "<style scoped>\n",
       "    .dataframe tbody tr th:only-of-type {\n",
       "        vertical-align: middle;\n",
       "    }\n",
       "\n",
       "    .dataframe tbody tr th {\n",
       "        vertical-align: top;\n",
       "    }\n",
       "\n",
       "    .dataframe thead th {\n",
       "        text-align: right;\n",
       "    }\n",
       "</style>\n",
       "<table border=\"1\" class=\"dataframe\">\n",
       "  <thead>\n",
       "    <tr style=\"text-align: right;\">\n",
       "      <th></th>\n",
       "      <th>title_id</th>\n",
       "      <th>para_id</th>\n",
       "      <th>context</th>\n",
       "    </tr>\n",
       "  </thead>\n",
       "  <tbody>\n",
       "    <tr>\n",
       "      <th>0</th>\n",
       "      <td>0</td>\n",
       "      <td>0</td>\n",
       "      <td>Frédéric François Chopin (/ˈʃoʊpæn/; French pr...</td>\n",
       "    </tr>\n",
       "    <tr>\n",
       "      <th>1</th>\n",
       "      <td>0</td>\n",
       "      <td>1</td>\n",
       "      <td>At the age of 21 he settled in Paris. Thereaft...</td>\n",
       "    </tr>\n",
       "    <tr>\n",
       "      <th>2</th>\n",
       "      <td>0</td>\n",
       "      <td>2</td>\n",
       "      <td>All of Chopin's compositions include the piano...</td>\n",
       "    </tr>\n",
       "    <tr>\n",
       "      <th>3</th>\n",
       "      <td>0</td>\n",
       "      <td>3</td>\n",
       "      <td>In his native Poland, in France, where he comp...</td>\n",
       "    </tr>\n",
       "    <tr>\n",
       "      <th>4</th>\n",
       "      <td>0</td>\n",
       "      <td>4</td>\n",
       "      <td>Fryderyk Chopin was born in Żelazowa Wola, 46 ...</td>\n",
       "    </tr>\n",
       "    <tr>\n",
       "      <th>...</th>\n",
       "      <td>...</td>\n",
       "      <td>...</td>\n",
       "      <td>...</td>\n",
       "    </tr>\n",
       "    <tr>\n",
       "      <th>12826</th>\n",
       "      <td>293</td>\n",
       "      <td>24</td>\n",
       "      <td>Isaac Newton (1643–1727) inherited Descartes' ...</td>\n",
       "    </tr>\n",
       "    <tr>\n",
       "      <th>12827</th>\n",
       "      <td>293</td>\n",
       "      <td>25</td>\n",
       "      <td>There is an entire literature concerning the \"...</td>\n",
       "    </tr>\n",
       "    <tr>\n",
       "      <th>12828</th>\n",
       "      <td>293</td>\n",
       "      <td>26</td>\n",
       "      <td>In the late 19th century with the discovery of...</td>\n",
       "    </tr>\n",
       "    <tr>\n",
       "      <th>12829</th>\n",
       "      <td>293</td>\n",
       "      <td>27</td>\n",
       "      <td>These quarks and leptons interact through four...</td>\n",
       "    </tr>\n",
       "    <tr>\n",
       "      <th>12830</th>\n",
       "      <td>293</td>\n",
       "      <td>28</td>\n",
       "      <td>The term \"matter\" is used throughout physics i...</td>\n",
       "    </tr>\n",
       "  </tbody>\n",
       "</table>\n",
       "<p>12831 rows × 3 columns</p>\n",
       "</div>"
      ],
      "text/plain": [
       "       title_id  para_id                                            context\n",
       "0             0        0  Frédéric François Chopin (/ˈʃoʊpæn/; French pr...\n",
       "1             0        1  At the age of 21 he settled in Paris. Thereaft...\n",
       "2             0        2  All of Chopin's compositions include the piano...\n",
       "3             0        3  In his native Poland, in France, where he comp...\n",
       "4             0        4  Fryderyk Chopin was born in Żelazowa Wola, 46 ...\n",
       "...         ...      ...                                                ...\n",
       "12826       293       24  Isaac Newton (1643–1727) inherited Descartes' ...\n",
       "12827       293       25  There is an entire literature concerning the \"...\n",
       "12828       293       26  In the late 19th century with the discovery of...\n",
       "12829       293       27  These quarks and leptons interact through four...\n",
       "12830       293       28  The term \"matter\" is used throughout physics i...\n",
       "\n",
       "[12831 rows x 3 columns]"
      ]
     },
     "execution_count": 22,
     "metadata": {},
     "output_type": "execute_result"
    }
   ],
   "source": [
    "db.paragraph"
   ]
  },
  {
   "cell_type": "code",
   "execution_count": 21,
   "metadata": {},
   "outputs": [
    {
     "data": {
      "text/plain": [
       "(12831, 100)"
      ]
     },
     "execution_count": 21,
     "metadata": {},
     "output_type": "execute_result"
    }
   ],
   "source": [
    "X.shape"
   ]
  },
  {
   "cell_type": "code",
   "execution_count": 33,
   "metadata": {},
   "outputs": [],
   "source": [
    "from sklearn import linear_model"
   ]
  },
  {
   "cell_type": "code",
   "execution_count": 79,
   "metadata": {},
   "outputs": [],
   "source": [
    "# idxs = np.random.choice(range(len(X)), 500,replace=False)"
   ]
  },
  {
   "cell_type": "code",
   "execution_count": 69,
   "metadata": {},
   "outputs": [
    {
     "data": {
      "text/plain": [
       "array([189, 218,  57, 265, 194], dtype=int64)"
      ]
     },
     "execution_count": 69,
     "metadata": {},
     "output_type": "execute_result"
    }
   ],
   "source": [
    "# db.paragraph.loc[idxs, 'title_id'].to_numpy()"
   ]
  },
  {
   "cell_type": "code",
   "execution_count": 88,
   "metadata": {},
   "outputs": [
    {
     "data": {
      "text/plain": [
       "title_id\n",
       "9      149\n",
       "5      148\n",
       "10     127\n",
       "283     98\n",
       "49      95\n",
       "      ... \n",
       "93      13\n",
       "71      12\n",
       "86      12\n",
       "79      12\n",
       "74      10\n",
       "Name: para_id, Length: 294, dtype: int64"
      ]
     },
     "execution_count": 88,
     "metadata": {},
     "output_type": "execute_result"
    }
   ],
   "source": [
    "db.paragraph.groupby('title_id')['para_id'].count().sort_values(ascending=False)"
   ]
  },
  {
   "cell_type": "code",
   "execution_count": 89,
   "metadata": {},
   "outputs": [],
   "source": [
    "binary = db.paragraph.loc[:, 'title_id'].map(lambda x: 0 if x != 9 else 1)"
   ]
  },
  {
   "cell_type": "code",
   "execution_count": 90,
   "metadata": {},
   "outputs": [
    {
     "data": {
      "text/plain": [
       "LogisticRegressionCV()"
      ]
     },
     "execution_count": 90,
     "metadata": {},
     "output_type": "execute_result"
    }
   ],
   "source": [
    "# log_clf.fit(X[idxs], db.paragraph.loc[idxs, 'title_id'].to_numpy())\n",
    "log_clf = linear_model.LogisticRegressionCV()\n",
    "log_clf.fit(X[idxs], binary[idxs])"
   ]
  },
  {
   "cell_type": "code",
   "execution_count": 91,
   "metadata": {},
   "outputs": [],
   "source": [
    "y_pred = log_clf.predict(X[idxs])"
   ]
  },
  {
   "cell_type": "code",
   "execution_count": 92,
   "metadata": {},
   "outputs": [
    {
     "data": {
      "text/plain": [
       "0.004"
      ]
     },
     "execution_count": 92,
     "metadata": {},
     "output_type": "execute_result"
    }
   ],
   "source": [
    "from sklearn import metrics\n",
    "\n",
    "metrics.accuracy_score(db.paragraph.title_id.loc[idxs], y_pred)"
   ]
  },
  {
   "cell_type": "markdown",
   "metadata": {},
   "source": [
    "## Arbitrary"
   ]
  },
  {
   "cell_type": "code",
   "execution_count": 328,
   "metadata": {},
   "outputs": [],
   "source": [
    "# dbs = modeling.eda.filter_db(db, range(5))\n",
    "dbs = db"
   ]
  },
  {
   "cell_type": "code",
   "execution_count": 329,
   "metadata": {},
   "outputs": [],
   "source": [
    "# res, vec = modeling.model.alt_predict(db)"
   ]
  },
  {
   "cell_type": "code",
   "execution_count": 330,
   "metadata": {},
   "outputs": [],
   "source": [
    "_STOPWORDS = set(nltk.corpus.stopwords.words('english'))"
   ]
  },
  {
   "cell_type": "code",
   "execution_count": 331,
   "metadata": {},
   "outputs": [],
   "source": [
    "vec = feature_extraction.text.TfidfVectorizer(\n",
    "    strip_accents='ascii',\n",
    "    stop_words=_STOPWORDS,\n",
    "    ngram_range=(1, 2),\n",
    "    min_df=5,\n",
    ")\n",
    "\n",
    "train_X = vec.fit_transform(train['context'])\n",
    "dev_X = vec.transform(dev['context'])"
   ]
  },
  {
   "cell_type": "code",
   "execution_count": 389,
   "metadata": {},
   "outputs": [
    {
     "data": {
      "text/plain": [
       "9583     Apollo was worshipped as Actiacus (/ækˈtaɪ.əkə...\n",
       "11789    Only scant remains prove that mosaics were sti...\n",
       "8306     Deforestation and forest fires are a problem i...\n",
       "7744     Proponents of affirmative action argue that by...\n",
       "7206     World War I was a watershed event in human his...\n",
       "                               ...                        \n",
       "10898    As of 2012[update], there are over 3.5 million...\n",
       "10292    In April 1758, the British concluded the Anglo...\n",
       "10325    Gaddafi's earliest education was of a religiou...\n",
       "5788     The official Cubs team mascot is a young bear ...\n",
       "5481     Before the Hellenistic period, Greek colonies ...\n",
       "Name: context, Length: 9623, dtype: object"
      ]
     },
     "execution_count": 389,
     "metadata": {},
     "output_type": "execute_result"
    }
   ],
   "source": [
    "train['context']"
   ]
  },
  {
   "cell_type": "code",
   "execution_count": 332,
   "metadata": {},
   "outputs": [
    {
     "data": {
      "text/plain": [
       "19500"
      ]
     },
     "execution_count": 332,
     "metadata": {},
     "output_type": "execute_result"
    }
   ],
   "source": [
    "len(vec.vocabulary_)"
   ]
  },
  {
   "cell_type": "code",
   "execution_count": 338,
   "metadata": {},
   "outputs": [],
   "source": [
    "test = dbs.ques_ans\n",
    "test_X = vec.transform(test['question'])"
   ]
  },
  {
   "cell_type": "markdown",
   "metadata": {
    "jp-MarkdownHeadingCollapsed": true,
    "tags": []
   },
   "source": [
    "#### Logistic"
   ]
  },
  {
   "cell_type": "code",
   "execution_count": 75,
   "metadata": {},
   "outputs": [],
   "source": [
    "svd = decomposition.TruncatedSVD(100)"
   ]
  },
  {
   "cell_type": "code",
   "execution_count": 76,
   "metadata": {},
   "outputs": [],
   "source": [
    "out_x = svd.fit_transform(train_X)"
   ]
  },
  {
   "cell_type": "code",
   "execution_count": 77,
   "metadata": {},
   "outputs": [],
   "source": [
    "out_t_x = svd.transform(test_X)"
   ]
  },
  {
   "cell_type": "code",
   "execution_count": 78,
   "metadata": {},
   "outputs": [
    {
     "data": {
      "text/plain": [
       "((3392, 100), (1131, 100))"
      ]
     },
     "execution_count": 78,
     "metadata": {},
     "output_type": "execute_result"
    }
   ],
   "source": [
    "out_x.shape, out_t_x.shape"
   ]
  },
  {
   "cell_type": "code",
   "execution_count": null,
   "metadata": {},
   "outputs": [],
   "source": [
    "log_clf = linear_model.LogisticRegressionCV()"
   ]
  },
  {
   "cell_type": "code",
   "execution_count": 81,
   "metadata": {},
   "outputs": [
    {
     "name": "stderr",
     "output_type": "stream",
     "text": [
      "C:\\Users\\wb570819\\AppData\\Local\\Packages\\PythonSoftwareFoundation.Python.3.10_qbz5n2kfra8p0\\LocalCache\\local-packages\\Python310\\site-packages\\sklearn\\linear_model\\_logistic.py:814: ConvergenceWarning: lbfgs failed to converge (status=1):\n",
      "STOP: TOTAL NO. of ITERATIONS REACHED LIMIT.\n",
      "\n",
      "Increase the number of iterations (max_iter) or scale the data as shown in:\n",
      "    https://scikit-learn.org/stable/modules/preprocessing.html\n",
      "Please also refer to the documentation for alternative solver options:\n",
      "    https://scikit-learn.org/stable/modules/linear_model.html#logistic-regression\n",
      "  n_iter_i = _check_optimize_result(\n",
      "C:\\Users\\wb570819\\AppData\\Local\\Packages\\PythonSoftwareFoundation.Python.3.10_qbz5n2kfra8p0\\LocalCache\\local-packages\\Python310\\site-packages\\sklearn\\linear_model\\_logistic.py:814: ConvergenceWarning: lbfgs failed to converge (status=1):\n",
      "STOP: TOTAL NO. of ITERATIONS REACHED LIMIT.\n",
      "\n",
      "Increase the number of iterations (max_iter) or scale the data as shown in:\n",
      "    https://scikit-learn.org/stable/modules/preprocessing.html\n",
      "Please also refer to the documentation for alternative solver options:\n",
      "    https://scikit-learn.org/stable/modules/linear_model.html#logistic-regression\n",
      "  n_iter_i = _check_optimize_result(\n",
      "C:\\Users\\wb570819\\AppData\\Local\\Packages\\PythonSoftwareFoundation.Python.3.10_qbz5n2kfra8p0\\LocalCache\\local-packages\\Python310\\site-packages\\sklearn\\linear_model\\_logistic.py:814: ConvergenceWarning: lbfgs failed to converge (status=1):\n",
      "STOP: TOTAL NO. of ITERATIONS REACHED LIMIT.\n",
      "\n",
      "Increase the number of iterations (max_iter) or scale the data as shown in:\n",
      "    https://scikit-learn.org/stable/modules/preprocessing.html\n",
      "Please also refer to the documentation for alternative solver options:\n",
      "    https://scikit-learn.org/stable/modules/linear_model.html#logistic-regression\n",
      "  n_iter_i = _check_optimize_result(\n",
      "C:\\Users\\wb570819\\AppData\\Local\\Packages\\PythonSoftwareFoundation.Python.3.10_qbz5n2kfra8p0\\LocalCache\\local-packages\\Python310\\site-packages\\sklearn\\linear_model\\_logistic.py:814: ConvergenceWarning: lbfgs failed to converge (status=1):\n",
      "STOP: TOTAL NO. of ITERATIONS REACHED LIMIT.\n",
      "\n",
      "Increase the number of iterations (max_iter) or scale the data as shown in:\n",
      "    https://scikit-learn.org/stable/modules/preprocessing.html\n",
      "Please also refer to the documentation for alternative solver options:\n",
      "    https://scikit-learn.org/stable/modules/linear_model.html#logistic-regression\n",
      "  n_iter_i = _check_optimize_result(\n",
      "C:\\Users\\wb570819\\AppData\\Local\\Packages\\PythonSoftwareFoundation.Python.3.10_qbz5n2kfra8p0\\LocalCache\\local-packages\\Python310\\site-packages\\sklearn\\linear_model\\_logistic.py:814: ConvergenceWarning: lbfgs failed to converge (status=1):\n",
      "STOP: TOTAL NO. of ITERATIONS REACHED LIMIT.\n",
      "\n",
      "Increase the number of iterations (max_iter) or scale the data as shown in:\n",
      "    https://scikit-learn.org/stable/modules/preprocessing.html\n",
      "Please also refer to the documentation for alternative solver options:\n",
      "    https://scikit-learn.org/stable/modules/linear_model.html#logistic-regression\n",
      "  n_iter_i = _check_optimize_result(\n",
      "C:\\Users\\wb570819\\AppData\\Local\\Packages\\PythonSoftwareFoundation.Python.3.10_qbz5n2kfra8p0\\LocalCache\\local-packages\\Python310\\site-packages\\sklearn\\linear_model\\_logistic.py:814: ConvergenceWarning: lbfgs failed to converge (status=1):\n",
      "STOP: TOTAL NO. of ITERATIONS REACHED LIMIT.\n",
      "\n",
      "Increase the number of iterations (max_iter) or scale the data as shown in:\n",
      "    https://scikit-learn.org/stable/modules/preprocessing.html\n",
      "Please also refer to the documentation for alternative solver options:\n",
      "    https://scikit-learn.org/stable/modules/linear_model.html#logistic-regression\n",
      "  n_iter_i = _check_optimize_result(\n"
     ]
    },
    {
     "data": {
      "text/plain": [
       "LogisticRegressionCV()"
      ]
     },
     "execution_count": 81,
     "metadata": {},
     "output_type": "execute_result"
    }
   ],
   "source": [
    "log_clf.fit(out_x, train.title_id)"
   ]
  },
  {
   "cell_type": "code",
   "execution_count": 82,
   "metadata": {},
   "outputs": [
    {
     "name": "stdout",
     "output_type": "stream",
     "text": [
      "              precision    recall  f1-score   support\n",
      "\n",
      "           0       1.00      1.00      1.00        61\n",
      "           1       1.00      1.00      1.00        45\n",
      "           2       1.00      1.00      1.00        24\n",
      "           3       1.00      1.00      1.00        32\n",
      "           4       1.00      0.98      0.99        58\n",
      "           5       1.00      1.00      1.00       111\n",
      "           6       1.00      1.00      1.00        46\n",
      "           7       1.00      1.00      1.00        39\n",
      "           8       1.00      1.00      1.00        59\n",
      "           9       1.00      1.00      1.00       112\n",
      "          10       1.00      1.00      1.00        95\n",
      "          11       1.00      1.00      1.00        56\n",
      "          12       0.98      1.00      0.99        55\n",
      "          13       1.00      1.00      1.00        29\n",
      "          14       1.00      1.00      1.00        16\n",
      "          15       1.00      1.00      1.00        17\n",
      "          16       1.00      1.00      1.00        34\n",
      "          17       1.00      1.00      1.00        34\n",
      "          18       1.00      1.00      1.00        43\n",
      "          19       1.00      1.00      1.00        22\n",
      "          20       1.00      1.00      1.00        64\n",
      "          21       1.00      1.00      1.00        25\n",
      "          22       1.00      1.00      1.00        21\n",
      "          23       1.00      1.00      1.00        26\n",
      "          24       1.00      1.00      1.00        61\n",
      "          25       1.00      1.00      1.00        26\n",
      "          26       1.00      1.00      1.00        17\n",
      "          27       1.00      1.00      1.00        26\n",
      "          28       1.00      1.00      1.00        55\n",
      "          29       1.00      1.00      1.00        67\n",
      "          30       1.00      1.00      1.00        28\n",
      "          31       0.98      1.00      0.99        61\n",
      "          32       1.00      1.00      1.00        26\n",
      "          33       1.00      1.00      1.00        52\n",
      "          34       1.00      1.00      1.00        18\n",
      "          35       1.00      1.00      1.00        26\n",
      "          36       1.00      1.00      1.00        17\n",
      "          37       1.00      1.00      1.00        19\n",
      "          38       1.00      1.00      1.00        60\n",
      "          39       1.00      1.00      1.00        32\n",
      "          40       1.00      1.00      1.00        24\n",
      "          41       1.00      1.00      1.00        47\n",
      "          42       1.00      1.00      1.00        20\n",
      "          43       1.00      1.00      1.00        21\n",
      "          44       1.00      1.00      1.00        27\n",
      "          45       0.98      1.00      0.99        41\n",
      "          46       1.00      1.00      1.00        33\n",
      "          47       1.00      1.00      1.00        39\n",
      "          48       1.00      1.00      1.00        37\n",
      "          49       1.00      1.00      1.00        71\n",
      "          50       1.00      1.00      1.00        43\n",
      "          51       1.00      0.97      0.99        38\n",
      "          52       1.00      1.00      1.00        17\n",
      "          53       1.00      1.00      1.00        65\n",
      "          54       1.00      1.00      1.00        42\n",
      "          55       1.00      1.00      1.00        37\n",
      "          56       1.00      1.00      1.00        37\n",
      "          57       1.00      1.00      1.00        48\n",
      "          58       1.00      1.00      1.00        29\n",
      "          59       1.00      1.00      1.00        19\n",
      "          60       1.00      1.00      1.00        34\n",
      "          61       1.00      1.00      1.00        17\n",
      "          62       1.00      1.00      1.00        60\n",
      "          63       1.00      1.00      1.00        46\n",
      "          64       1.00      0.97      0.99        40\n",
      "          65       1.00      1.00      1.00        39\n",
      "          66       1.00      1.00      1.00        35\n",
      "          67       1.00      1.00      1.00        46\n",
      "          68       1.00      1.00      1.00        33\n",
      "          69       1.00      1.00      1.00        49\n",
      "          70       1.00      1.00      1.00        11\n",
      "          71       1.00      1.00      1.00         9\n",
      "          72       1.00      1.00      1.00        23\n",
      "          73       1.00      1.00      1.00        16\n",
      "          74       1.00      1.00      1.00         8\n",
      "          75       1.00      1.00      1.00        19\n",
      "          76       1.00      1.00      1.00        19\n",
      "          77       1.00      1.00      1.00        13\n",
      "          78       1.00      1.00      1.00        26\n",
      "          79       1.00      1.00      1.00         9\n",
      "          80       1.00      1.00      1.00        19\n",
      "          81       1.00      1.00      1.00        16\n",
      "          82       1.00      1.00      1.00        33\n",
      "          83       1.00      1.00      1.00        18\n",
      "          84       1.00      1.00      1.00        17\n",
      "          85       1.00      1.00      1.00        26\n",
      "          86       1.00      1.00      1.00         9\n",
      "          87       1.00      1.00      1.00        12\n",
      "          88       1.00      1.00      1.00        16\n",
      "          89       1.00      1.00      1.00        17\n",
      "          90       1.00      1.00      1.00        20\n",
      "          91       1.00      1.00      1.00        31\n",
      "          92       1.00      1.00      1.00        19\n",
      "          93       1.00      1.00      1.00        10\n",
      "          94       1.00      1.00      1.00        15\n",
      "          95       1.00      1.00      1.00        24\n",
      "          96       1.00      1.00      1.00        20\n",
      "          97       1.00      1.00      1.00        14\n",
      "          98       1.00      1.00      1.00        17\n",
      "          99       1.00      1.00      1.00        37\n",
      "\n",
      "    accuracy                           1.00      3392\n",
      "   macro avg       1.00      1.00      1.00      3392\n",
      "weighted avg       1.00      1.00      1.00      3392\n",
      "\n"
     ]
    }
   ],
   "source": [
    "print(metrics.classification_report(train.title_id, log_clf.predict(out_x)))"
   ]
  },
  {
   "cell_type": "code",
   "execution_count": 83,
   "metadata": {},
   "outputs": [
    {
     "name": "stdout",
     "output_type": "stream",
     "text": [
      "              precision    recall  f1-score   support\n",
      "\n",
      "           0       0.95      1.00      0.98        21\n",
      "           1       0.93      0.87      0.90        15\n",
      "           2       1.00      1.00      1.00         8\n",
      "           3       1.00      0.91      0.95        11\n",
      "           4       0.88      0.79      0.83        19\n",
      "           5       0.88      0.95      0.91        37\n",
      "           6       0.88      0.88      0.88        16\n",
      "           7       0.92      0.92      0.92        13\n",
      "           8       1.00      0.95      0.97        20\n",
      "           9       0.74      1.00      0.85        37\n",
      "          10       0.94      1.00      0.97        32\n",
      "          11       1.00      0.89      0.94        19\n",
      "          12       0.90      1.00      0.95        19\n",
      "          13       0.88      0.70      0.78        10\n",
      "          14       0.57      0.80      0.67         5\n",
      "          15       0.60      0.50      0.55         6\n",
      "          16       0.83      0.83      0.83        12\n",
      "          17       1.00      1.00      1.00        11\n",
      "          18       0.92      0.86      0.89        14\n",
      "          19       0.75      0.43      0.55         7\n",
      "          20       1.00      1.00      1.00        22\n",
      "          21       0.83      0.62      0.71         8\n",
      "          22       0.88      1.00      0.93         7\n",
      "          23       1.00      1.00      1.00         9\n",
      "          24       0.86      0.86      0.86        21\n",
      "          25       0.89      1.00      0.94         8\n",
      "          26       0.71      1.00      0.83         5\n",
      "          27       1.00      1.00      1.00         8\n",
      "          28       0.90      1.00      0.95        19\n",
      "          29       0.77      0.87      0.82        23\n",
      "          30       1.00      1.00      1.00         9\n",
      "          31       0.83      0.90      0.86        21\n",
      "          32       1.00      1.00      1.00         8\n",
      "          33       0.95      1.00      0.97        18\n",
      "          34       0.86      1.00      0.92         6\n",
      "          35       1.00      0.88      0.93         8\n",
      "          36       1.00      0.80      0.89         5\n",
      "          37       1.00      0.83      0.91         6\n",
      "          38       1.00      0.95      0.97        20\n",
      "          39       1.00      1.00      1.00        10\n",
      "          40       1.00      0.88      0.93         8\n",
      "          41       1.00      0.94      0.97        16\n",
      "          42       0.67      0.57      0.62         7\n",
      "          43       0.86      0.86      0.86         7\n",
      "          44       1.00      0.67      0.80         9\n",
      "          45       1.00      0.93      0.96        14\n",
      "          46       0.83      0.91      0.87        11\n",
      "          47       0.82      0.69      0.75        13\n",
      "          48       1.00      0.92      0.96        12\n",
      "          49       0.75      0.88      0.81        24\n",
      "          50       0.87      0.93      0.90        14\n",
      "          51       1.00      0.77      0.87        13\n",
      "          52       1.00      0.67      0.80         6\n",
      "          53       0.78      0.95      0.86        22\n",
      "          54       1.00      0.93      0.96        14\n",
      "          55       0.89      0.62      0.73        13\n",
      "          56       0.93      1.00      0.96        13\n",
      "          57       0.94      1.00      0.97        16\n",
      "          58       0.62      0.89      0.73         9\n",
      "          59       0.75      0.50      0.60         6\n",
      "          60       0.92      1.00      0.96        12\n",
      "          61       1.00      0.67      0.80         6\n",
      "          62       0.90      0.95      0.93        20\n",
      "          63       0.85      0.73      0.79        15\n",
      "          64       0.91      0.77      0.83        13\n",
      "          65       1.00      0.92      0.96        13\n",
      "          66       0.82      0.75      0.78        12\n",
      "          67       0.92      0.69      0.79        16\n",
      "          68       1.00      0.91      0.95        11\n",
      "          69       0.88      0.82      0.85        17\n",
      "          70       0.00      0.00      0.00         3\n",
      "          71       1.00      0.67      0.80         3\n",
      "          72       1.00      1.00      1.00         8\n",
      "          73       1.00      1.00      1.00         5\n",
      "          74       1.00      0.50      0.67         2\n",
      "          75       0.50      1.00      0.67         6\n",
      "          76       0.83      0.83      0.83         6\n",
      "          77       1.00      0.75      0.86         4\n",
      "          78       0.89      1.00      0.94         8\n",
      "          79       0.00      0.00      0.00         3\n",
      "          80       0.86      1.00      0.92         6\n",
      "          81       0.80      0.80      0.80         5\n",
      "          82       0.91      0.91      0.91        11\n",
      "          83       0.71      0.83      0.77         6\n",
      "          84       0.75      1.00      0.86         6\n",
      "          85       1.00      1.00      1.00         8\n",
      "          86       1.00      0.67      0.80         3\n",
      "          87       1.00      0.75      0.86         4\n",
      "          88       0.50      0.20      0.29         5\n",
      "          89       1.00      1.00      1.00         6\n",
      "          90       1.00      1.00      1.00         6\n",
      "          91       0.69      1.00      0.81        11\n",
      "          92       1.00      1.00      1.00         6\n",
      "          93       1.00      0.33      0.50         3\n",
      "          94       1.00      0.60      0.75         5\n",
      "          95       0.75      0.75      0.75         8\n",
      "          96       1.00      1.00      1.00         6\n",
      "          97       0.67      1.00      0.80         4\n",
      "          98       0.71      0.83      0.77         6\n",
      "          99       1.00      1.00      1.00        13\n",
      "\n",
      "    accuracy                           0.89      1131\n",
      "   macro avg       0.88      0.84      0.85      1131\n",
      "weighted avg       0.89      0.89      0.88      1131\n",
      "\n"
     ]
    },
    {
     "name": "stderr",
     "output_type": "stream",
     "text": [
      "C:\\Users\\wb570819\\AppData\\Local\\Packages\\PythonSoftwareFoundation.Python.3.10_qbz5n2kfra8p0\\LocalCache\\local-packages\\Python310\\site-packages\\sklearn\\metrics\\_classification.py:1318: UndefinedMetricWarning: Precision and F-score are ill-defined and being set to 0.0 in labels with no predicted samples. Use `zero_division` parameter to control this behavior.\n",
      "  _warn_prf(average, modifier, msg_start, len(result))\n",
      "C:\\Users\\wb570819\\AppData\\Local\\Packages\\PythonSoftwareFoundation.Python.3.10_qbz5n2kfra8p0\\LocalCache\\local-packages\\Python310\\site-packages\\sklearn\\metrics\\_classification.py:1318: UndefinedMetricWarning: Precision and F-score are ill-defined and being set to 0.0 in labels with no predicted samples. Use `zero_division` parameter to control this behavior.\n",
      "  _warn_prf(average, modifier, msg_start, len(result))\n",
      "C:\\Users\\wb570819\\AppData\\Local\\Packages\\PythonSoftwareFoundation.Python.3.10_qbz5n2kfra8p0\\LocalCache\\local-packages\\Python310\\site-packages\\sklearn\\metrics\\_classification.py:1318: UndefinedMetricWarning: Precision and F-score are ill-defined and being set to 0.0 in labels with no predicted samples. Use `zero_division` parameter to control this behavior.\n",
      "  _warn_prf(average, modifier, msg_start, len(result))\n"
     ]
    }
   ],
   "source": [
    "print(metrics.classification_report(test.title_id, log_clf.predict(out_t_x)))"
   ]
  },
  {
   "cell_type": "markdown",
   "metadata": {},
   "source": [
    "#### Naive"
   ]
  },
  {
   "cell_type": "code",
   "execution_count": 333,
   "metadata": {},
   "outputs": [],
   "source": [
    "nb_clf = naive_bayes.MultinomialNB()"
   ]
  },
  {
   "cell_type": "code",
   "execution_count": 334,
   "metadata": {},
   "outputs": [
    {
     "data": {
      "text/plain": [
       "MultinomialNB()"
      ]
     },
     "execution_count": 334,
     "metadata": {},
     "output_type": "execute_result"
    }
   ],
   "source": [
    "nb_clf.fit(train_X, train.title_id)"
   ]
  },
  {
   "cell_type": "code",
   "execution_count": 335,
   "metadata": {},
   "outputs": [
    {
     "data": {
      "text/plain": [
       "array([215, 273, 187, ..., 238, 128, 122], dtype=int64)"
      ]
     },
     "execution_count": 335,
     "metadata": {},
     "output_type": "execute_result"
    }
   ],
   "source": [
    "nb_clf.predict(train_X)"
   ]
  },
  {
   "cell_type": "code",
   "execution_count": 366,
   "metadata": {},
   "outputs": [
    {
     "data": {
      "text/html": [
       "<div>\n",
       "<style scoped>\n",
       "    .dataframe tbody tr th:only-of-type {\n",
       "        vertical-align: middle;\n",
       "    }\n",
       "\n",
       "    .dataframe tbody tr th {\n",
       "        vertical-align: top;\n",
       "    }\n",
       "\n",
       "    .dataframe thead th {\n",
       "        text-align: right;\n",
       "    }\n",
       "</style>\n",
       "<table border=\"1\" class=\"dataframe\">\n",
       "  <thead>\n",
       "    <tr style=\"text-align: right;\">\n",
       "      <th></th>\n",
       "      <th>precision</th>\n",
       "      <th>recall</th>\n",
       "      <th>f1-score</th>\n",
       "      <th>support</th>\n",
       "    </tr>\n",
       "  </thead>\n",
       "  <tbody>\n",
       "    <tr>\n",
       "      <th>0</th>\n",
       "      <td>0.983871</td>\n",
       "      <td>1.000000</td>\n",
       "      <td>0.991870</td>\n",
       "      <td>61.000000</td>\n",
       "    </tr>\n",
       "    <tr>\n",
       "      <th>1</th>\n",
       "      <td>0.978261</td>\n",
       "      <td>1.000000</td>\n",
       "      <td>0.989011</td>\n",
       "      <td>45.000000</td>\n",
       "    </tr>\n",
       "    <tr>\n",
       "      <th>2</th>\n",
       "      <td>1.000000</td>\n",
       "      <td>0.833333</td>\n",
       "      <td>0.909091</td>\n",
       "      <td>24.000000</td>\n",
       "    </tr>\n",
       "    <tr>\n",
       "      <th>3</th>\n",
       "      <td>1.000000</td>\n",
       "      <td>0.781250</td>\n",
       "      <td>0.877193</td>\n",
       "      <td>32.000000</td>\n",
       "    </tr>\n",
       "    <tr>\n",
       "      <th>4</th>\n",
       "      <td>0.934426</td>\n",
       "      <td>0.982759</td>\n",
       "      <td>0.957983</td>\n",
       "      <td>58.000000</td>\n",
       "    </tr>\n",
       "    <tr>\n",
       "      <th>...</th>\n",
       "      <td>...</td>\n",
       "      <td>...</td>\n",
       "      <td>...</td>\n",
       "      <td>...</td>\n",
       "    </tr>\n",
       "    <tr>\n",
       "      <th>292</th>\n",
       "      <td>1.000000</td>\n",
       "      <td>0.500000</td>\n",
       "      <td>0.666667</td>\n",
       "      <td>20.000000</td>\n",
       "    </tr>\n",
       "    <tr>\n",
       "      <th>293</th>\n",
       "      <td>1.000000</td>\n",
       "      <td>0.772727</td>\n",
       "      <td>0.871795</td>\n",
       "      <td>22.000000</td>\n",
       "    </tr>\n",
       "    <tr>\n",
       "      <th>accuracy</th>\n",
       "      <td>0.741868</td>\n",
       "      <td>0.741868</td>\n",
       "      <td>0.741868</td>\n",
       "      <td>0.741868</td>\n",
       "    </tr>\n",
       "    <tr>\n",
       "      <th>macro avg</th>\n",
       "      <td>0.816956</td>\n",
       "      <td>0.610608</td>\n",
       "      <td>0.651838</td>\n",
       "      <td>9623.000000</td>\n",
       "    </tr>\n",
       "    <tr>\n",
       "      <th>weighted avg</th>\n",
       "      <td>0.852726</td>\n",
       "      <td>0.741868</td>\n",
       "      <td>0.745699</td>\n",
       "      <td>9623.000000</td>\n",
       "    </tr>\n",
       "  </tbody>\n",
       "</table>\n",
       "<p>297 rows × 4 columns</p>\n",
       "</div>"
      ],
      "text/plain": [
       "              precision    recall  f1-score      support\n",
       "0              0.983871  1.000000  0.991870    61.000000\n",
       "1              0.978261  1.000000  0.989011    45.000000\n",
       "2              1.000000  0.833333  0.909091    24.000000\n",
       "3              1.000000  0.781250  0.877193    32.000000\n",
       "4              0.934426  0.982759  0.957983    58.000000\n",
       "...                 ...       ...       ...          ...\n",
       "292            1.000000  0.500000  0.666667    20.000000\n",
       "293            1.000000  0.772727  0.871795    22.000000\n",
       "accuracy       0.741868  0.741868  0.741868     0.741868\n",
       "macro avg      0.816956  0.610608  0.651838  9623.000000\n",
       "weighted avg   0.852726  0.741868  0.745699  9623.000000\n",
       "\n",
       "[297 rows x 4 columns]"
      ]
     },
     "execution_count": 366,
     "metadata": {},
     "output_type": "execute_result"
    }
   ],
   "source": [
    "train_report = make_report(train.title_id, nb_clf.predict(train_X))\n",
    "train_report"
   ]
  },
  {
   "cell_type": "code",
   "execution_count": 367,
   "metadata": {},
   "outputs": [
    {
     "data": {
      "text/html": [
       "<div>\n",
       "<style scoped>\n",
       "    .dataframe tbody tr th:only-of-type {\n",
       "        vertical-align: middle;\n",
       "    }\n",
       "\n",
       "    .dataframe tbody tr th {\n",
       "        vertical-align: top;\n",
       "    }\n",
       "\n",
       "    .dataframe thead th {\n",
       "        text-align: right;\n",
       "    }\n",
       "</style>\n",
       "<table border=\"1\" class=\"dataframe\">\n",
       "  <thead>\n",
       "    <tr style=\"text-align: right;\">\n",
       "      <th></th>\n",
       "      <th>precision</th>\n",
       "      <th>recall</th>\n",
       "      <th>f1-score</th>\n",
       "      <th>support</th>\n",
       "    </tr>\n",
       "  </thead>\n",
       "  <tbody>\n",
       "    <tr>\n",
       "      <th>0</th>\n",
       "      <td>0.952381</td>\n",
       "      <td>0.952381</td>\n",
       "      <td>0.952381</td>\n",
       "      <td>21.000000</td>\n",
       "    </tr>\n",
       "    <tr>\n",
       "      <th>1</th>\n",
       "      <td>0.875000</td>\n",
       "      <td>0.933333</td>\n",
       "      <td>0.903226</td>\n",
       "      <td>15.000000</td>\n",
       "    </tr>\n",
       "    <tr>\n",
       "      <th>2</th>\n",
       "      <td>1.000000</td>\n",
       "      <td>0.375000</td>\n",
       "      <td>0.545455</td>\n",
       "      <td>8.000000</td>\n",
       "    </tr>\n",
       "    <tr>\n",
       "      <th>3</th>\n",
       "      <td>1.000000</td>\n",
       "      <td>0.454545</td>\n",
       "      <td>0.625000</td>\n",
       "      <td>11.000000</td>\n",
       "    </tr>\n",
       "    <tr>\n",
       "      <th>4</th>\n",
       "      <td>0.937500</td>\n",
       "      <td>0.789474</td>\n",
       "      <td>0.857143</td>\n",
       "      <td>19.000000</td>\n",
       "    </tr>\n",
       "    <tr>\n",
       "      <th>...</th>\n",
       "      <td>...</td>\n",
       "      <td>...</td>\n",
       "      <td>...</td>\n",
       "      <td>...</td>\n",
       "    </tr>\n",
       "    <tr>\n",
       "      <th>292</th>\n",
       "      <td>0.000000</td>\n",
       "      <td>0.000000</td>\n",
       "      <td>0.000000</td>\n",
       "      <td>6.000000</td>\n",
       "    </tr>\n",
       "    <tr>\n",
       "      <th>293</th>\n",
       "      <td>0.000000</td>\n",
       "      <td>0.000000</td>\n",
       "      <td>0.000000</td>\n",
       "      <td>7.000000</td>\n",
       "    </tr>\n",
       "    <tr>\n",
       "      <th>accuracy</th>\n",
       "      <td>0.508105</td>\n",
       "      <td>0.508105</td>\n",
       "      <td>0.508105</td>\n",
       "      <td>0.508105</td>\n",
       "    </tr>\n",
       "    <tr>\n",
       "      <th>macro avg</th>\n",
       "      <td>0.567362</td>\n",
       "      <td>0.367407</td>\n",
       "      <td>0.405401</td>\n",
       "      <td>3208.000000</td>\n",
       "    </tr>\n",
       "    <tr>\n",
       "      <th>weighted avg</th>\n",
       "      <td>0.661719</td>\n",
       "      <td>0.508105</td>\n",
       "      <td>0.518134</td>\n",
       "      <td>3208.000000</td>\n",
       "    </tr>\n",
       "  </tbody>\n",
       "</table>\n",
       "<p>297 rows × 4 columns</p>\n",
       "</div>"
      ],
      "text/plain": [
       "              precision    recall  f1-score      support\n",
       "0              0.952381  0.952381  0.952381    21.000000\n",
       "1              0.875000  0.933333  0.903226    15.000000\n",
       "2              1.000000  0.375000  0.545455     8.000000\n",
       "3              1.000000  0.454545  0.625000    11.000000\n",
       "4              0.937500  0.789474  0.857143    19.000000\n",
       "...                 ...       ...       ...          ...\n",
       "292            0.000000  0.000000  0.000000     6.000000\n",
       "293            0.000000  0.000000  0.000000     7.000000\n",
       "accuracy       0.508105  0.508105  0.508105     0.508105\n",
       "macro avg      0.567362  0.367407  0.405401  3208.000000\n",
       "weighted avg   0.661719  0.508105  0.518134  3208.000000\n",
       "\n",
       "[297 rows x 4 columns]"
      ]
     },
     "execution_count": 367,
     "metadata": {},
     "output_type": "execute_result"
    }
   ],
   "source": [
    "dev_report = make_report(dev.title_id, nb_clf.predict(dev_X))\n",
    "dev_report"
   ]
  },
  {
   "cell_type": "code",
   "execution_count": 375,
   "metadata": {},
   "outputs": [],
   "source": [
    "test_report = make_report(test.title_id, nb_clf.predict(test_X))"
   ]
  },
  {
   "cell_type": "code",
   "execution_count": 376,
   "metadata": {},
   "outputs": [
    {
     "data": {
      "text/html": [
       "<div>\n",
       "<style scoped>\n",
       "    .dataframe tbody tr th:only-of-type {\n",
       "        vertical-align: middle;\n",
       "    }\n",
       "\n",
       "    .dataframe tbody tr th {\n",
       "        vertical-align: top;\n",
       "    }\n",
       "\n",
       "    .dataframe thead th {\n",
       "        text-align: right;\n",
       "    }\n",
       "</style>\n",
       "<table border=\"1\" class=\"dataframe\">\n",
       "  <thead>\n",
       "    <tr style=\"text-align: right;\">\n",
       "      <th></th>\n",
       "      <th>precision</th>\n",
       "      <th>recall</th>\n",
       "      <th>f1-score</th>\n",
       "      <th>support</th>\n",
       "    </tr>\n",
       "  </thead>\n",
       "  <tbody>\n",
       "    <tr>\n",
       "      <th>0</th>\n",
       "      <td>0.874791</td>\n",
       "      <td>0.751793</td>\n",
       "      <td>0.808642</td>\n",
       "      <td>697.000000</td>\n",
       "    </tr>\n",
       "    <tr>\n",
       "      <th>1</th>\n",
       "      <td>0.937255</td>\n",
       "      <td>0.730887</td>\n",
       "      <td>0.821306</td>\n",
       "      <td>327.000000</td>\n",
       "    </tr>\n",
       "    <tr>\n",
       "      <th>2</th>\n",
       "      <td>1.000000</td>\n",
       "      <td>0.219251</td>\n",
       "      <td>0.359649</td>\n",
       "      <td>374.000000</td>\n",
       "    </tr>\n",
       "    <tr>\n",
       "      <th>3</th>\n",
       "      <td>1.000000</td>\n",
       "      <td>0.149351</td>\n",
       "      <td>0.259887</td>\n",
       "      <td>462.000000</td>\n",
       "    </tr>\n",
       "    <tr>\n",
       "      <th>4</th>\n",
       "      <td>0.730159</td>\n",
       "      <td>0.353167</td>\n",
       "      <td>0.476067</td>\n",
       "      <td>521.000000</td>\n",
       "    </tr>\n",
       "    <tr>\n",
       "      <th>...</th>\n",
       "      <td>...</td>\n",
       "      <td>...</td>\n",
       "      <td>...</td>\n",
       "      <td>...</td>\n",
       "    </tr>\n",
       "    <tr>\n",
       "      <th>292</th>\n",
       "      <td>0.000000</td>\n",
       "      <td>0.000000</td>\n",
       "      <td>0.000000</td>\n",
       "      <td>126.000000</td>\n",
       "    </tr>\n",
       "    <tr>\n",
       "      <th>293</th>\n",
       "      <td>1.000000</td>\n",
       "      <td>0.014085</td>\n",
       "      <td>0.027778</td>\n",
       "      <td>142.000000</td>\n",
       "    </tr>\n",
       "    <tr>\n",
       "      <th>accuracy</th>\n",
       "      <td>0.262164</td>\n",
       "      <td>0.262164</td>\n",
       "      <td>0.262164</td>\n",
       "      <td>0.262164</td>\n",
       "    </tr>\n",
       "    <tr>\n",
       "      <th>macro avg</th>\n",
       "      <td>0.624719</td>\n",
       "      <td>0.225096</td>\n",
       "      <td>0.270268</td>\n",
       "      <td>86568.000000</td>\n",
       "    </tr>\n",
       "    <tr>\n",
       "      <th>weighted avg</th>\n",
       "      <td>0.662861</td>\n",
       "      <td>0.262164</td>\n",
       "      <td>0.297957</td>\n",
       "      <td>86568.000000</td>\n",
       "    </tr>\n",
       "  </tbody>\n",
       "</table>\n",
       "<p>297 rows × 4 columns</p>\n",
       "</div>"
      ],
      "text/plain": [
       "              precision    recall  f1-score       support\n",
       "0              0.874791  0.751793  0.808642    697.000000\n",
       "1              0.937255  0.730887  0.821306    327.000000\n",
       "2              1.000000  0.219251  0.359649    374.000000\n",
       "3              1.000000  0.149351  0.259887    462.000000\n",
       "4              0.730159  0.353167  0.476067    521.000000\n",
       "...                 ...       ...       ...           ...\n",
       "292            0.000000  0.000000  0.000000    126.000000\n",
       "293            1.000000  0.014085  0.027778    142.000000\n",
       "accuracy       0.262164  0.262164  0.262164      0.262164\n",
       "macro avg      0.624719  0.225096  0.270268  86568.000000\n",
       "weighted avg   0.662861  0.262164  0.297957  86568.000000\n",
       "\n",
       "[297 rows x 4 columns]"
      ]
     },
     "execution_count": 376,
     "metadata": {},
     "output_type": "execute_result"
    }
   ],
   "source": [
    "test_report"
   ]
  },
  {
   "cell_type": "code",
   "execution_count": 372,
   "metadata": {},
   "outputs": [
    {
     "data": {
      "text/plain": [
       "0                6.546785\n",
       "1                5.789960\n",
       "2                5.924256\n",
       "3                6.135565\n",
       "4                6.255750\n",
       "                  ...    \n",
       "292              4.836282\n",
       "293              4.955827\n",
       "accuracy         0.000000\n",
       "macro avg       11.368686\n",
       "weighted avg    11.368686\n",
       "Name: support, Length: 297, dtype: float64"
      ]
     },
     "execution_count": 372,
     "metadata": {},
     "output_type": "execute_result"
    }
   ],
   "source": [
    "np.clip(np.log(test_report['support'] + 1e-6), 0, None)"
   ]
  },
  {
   "cell_type": "code",
   "execution_count": 385,
   "metadata": {},
   "outputs": [
    {
     "data": {
      "text/html": [
       "<div>\n",
       "<style scoped>\n",
       "    .dataframe tbody tr th:only-of-type {\n",
       "        vertical-align: middle;\n",
       "    }\n",
       "\n",
       "    .dataframe tbody tr th {\n",
       "        vertical-align: top;\n",
       "    }\n",
       "\n",
       "    .dataframe thead th {\n",
       "        text-align: right;\n",
       "    }\n",
       "</style>\n",
       "<table border=\"1\" class=\"dataframe\">\n",
       "  <thead>\n",
       "    <tr style=\"text-align: right;\">\n",
       "      <th></th>\n",
       "      <th>Values</th>\n",
       "    </tr>\n",
       "  </thead>\n",
       "  <tbody>\n",
       "    <tr>\n",
       "      <th>precision</th>\n",
       "      <td>0.835489</td>\n",
       "    </tr>\n",
       "    <tr>\n",
       "      <th>recall</th>\n",
       "      <td>0.652123</td>\n",
       "    </tr>\n",
       "    <tr>\n",
       "      <th>f1-score</th>\n",
       "      <td>0.685367</td>\n",
       "    </tr>\n",
       "    <tr>\n",
       "      <th>accuracy</th>\n",
       "      <td>0.741868</td>\n",
       "    </tr>\n",
       "    <tr>\n",
       "      <th>macro avg</th>\n",
       "      <td>0.816956</td>\n",
       "    </tr>\n",
       "    <tr>\n",
       "      <th>weighted avg</th>\n",
       "      <td>0.852726</td>\n",
       "    </tr>\n",
       "  </tbody>\n",
       "</table>\n",
       "</div>"
      ],
      "text/plain": [
       "                Values\n",
       "precision     0.835489\n",
       "recall        0.652123\n",
       "f1-score      0.685367\n",
       "accuracy      0.741868\n",
       "macro avg     0.816956\n",
       "weighted avg  0.852726"
      ]
     },
     "execution_count": 385,
     "metadata": {},
     "output_type": "execute_result"
    }
   ],
   "source": [
    "summarize_report(train_report)"
   ]
  },
  {
   "cell_type": "code",
   "execution_count": 387,
   "metadata": {},
   "outputs": [
    {
     "data": {
      "text/html": [
       "<div>\n",
       "<style scoped>\n",
       "    .dataframe tbody tr th:only-of-type {\n",
       "        vertical-align: middle;\n",
       "    }\n",
       "\n",
       "    .dataframe tbody tr th {\n",
       "        vertical-align: top;\n",
       "    }\n",
       "\n",
       "    .dataframe thead th {\n",
       "        text-align: right;\n",
       "    }\n",
       "</style>\n",
       "<table border=\"1\" class=\"dataframe\">\n",
       "  <thead>\n",
       "    <tr style=\"text-align: right;\">\n",
       "      <th></th>\n",
       "      <th>Values</th>\n",
       "    </tr>\n",
       "  </thead>\n",
       "  <tbody>\n",
       "    <tr>\n",
       "      <th>precision</th>\n",
       "      <td>0.620326</td>\n",
       "    </tr>\n",
       "    <tr>\n",
       "      <th>recall</th>\n",
       "      <td>0.428738</td>\n",
       "    </tr>\n",
       "    <tr>\n",
       "      <th>f1-score</th>\n",
       "      <td>0.460206</td>\n",
       "    </tr>\n",
       "    <tr>\n",
       "      <th>accuracy</th>\n",
       "      <td>0.508105</td>\n",
       "    </tr>\n",
       "    <tr>\n",
       "      <th>macro avg</th>\n",
       "      <td>0.567362</td>\n",
       "    </tr>\n",
       "    <tr>\n",
       "      <th>weighted avg</th>\n",
       "      <td>0.661719</td>\n",
       "    </tr>\n",
       "  </tbody>\n",
       "</table>\n",
       "</div>"
      ],
      "text/plain": [
       "                Values\n",
       "precision     0.620326\n",
       "recall        0.428738\n",
       "f1-score      0.460206\n",
       "accuracy      0.508105\n",
       "macro avg     0.567362\n",
       "weighted avg  0.661719"
      ]
     },
     "execution_count": 387,
     "metadata": {},
     "output_type": "execute_result"
    }
   ],
   "source": [
    "summarize_report(dev_report)"
   ]
  },
  {
   "cell_type": "code",
   "execution_count": 309,
   "metadata": {},
   "outputs": [
    {
     "data": {
      "text/html": [
       "<div>\n",
       "<style scoped>\n",
       "    .dataframe tbody tr th:only-of-type {\n",
       "        vertical-align: middle;\n",
       "    }\n",
       "\n",
       "    .dataframe tbody tr th {\n",
       "        vertical-align: top;\n",
       "    }\n",
       "\n",
       "    .dataframe thead th {\n",
       "        text-align: right;\n",
       "    }\n",
       "</style>\n",
       "<table border=\"1\" class=\"dataframe\">\n",
       "  <thead>\n",
       "    <tr style=\"text-align: right;\">\n",
       "      <th></th>\n",
       "      <th>Values</th>\n",
       "    </tr>\n",
       "  </thead>\n",
       "  <tbody>\n",
       "    <tr>\n",
       "      <th>precision</th>\n",
       "      <td>0.645213</td>\n",
       "    </tr>\n",
       "    <tr>\n",
       "      <th>recall</th>\n",
       "      <td>0.232074</td>\n",
       "    </tr>\n",
       "    <tr>\n",
       "      <th>f1-score</th>\n",
       "      <td>0.275973</td>\n",
       "    </tr>\n",
       "    <tr>\n",
       "      <th>accuracy</th>\n",
       "      <td>0.263053</td>\n",
       "    </tr>\n",
       "    <tr>\n",
       "      <th>macro avg</th>\n",
       "      <td>0.635517</td>\n",
       "    </tr>\n",
       "    <tr>\n",
       "      <th>weighted avg</th>\n",
       "      <td>0.672870</td>\n",
       "    </tr>\n",
       "  </tbody>\n",
       "</table>\n",
       "</div>"
      ],
      "text/plain": [
       "                Values\n",
       "precision     0.645213\n",
       "recall        0.232074\n",
       "f1-score      0.275973\n",
       "accuracy      0.263053\n",
       "macro avg     0.635517\n",
       "weighted avg  0.672870"
      ]
     },
     "execution_count": 309,
     "metadata": {},
     "output_type": "execute_result"
    }
   ],
   "source": [
    "summarize_report(test_report)"
   ]
  },
  {
   "cell_type": "code",
   "execution_count": 234,
   "metadata": {},
   "outputs": [],
   "source": [
    "proba = nb_clf.predict_proba(test_X[10000])"
   ]
  },
  {
   "cell_type": "code",
   "execution_count": 235,
   "metadata": {},
   "outputs": [
    {
     "data": {
      "text/plain": [
       "<BarContainer object of 294 artists>"
      ]
     },
     "execution_count": 235,
     "metadata": {},
     "output_type": "execute_result"
    },
    {
     "data": {
      "image/png": "[encoded data removed]",
      "text/plain": [
       "<Figure size 864x648 with 1 Axes>"
      ]
     },
     "metadata": {
      "needs_background": "light"
     },
     "output_type": "display_data"
    }
   ],
   "source": [
    "plt.figure(figsize=(12, 9))\n",
    "plt.bar(np.arange(len(proba.ravel())), proba.ravel() * 100)"
   ]
  },
  {
   "cell_type": "markdown",
   "metadata": {},
   "source": [
    "### Distance Similarity"
   ]
  },
  {
   "cell_type": "code",
   "execution_count": 192,
   "metadata": {},
   "outputs": [],
   "source": [
    "res = [np.argmin(metrics.pairwise_distances(out_x, [_y])) for _y in out_y]"
   ]
  },
  {
   "cell_type": "code",
   "execution_count": 188,
   "metadata": {},
   "outputs": [
    {
     "data": {
      "text/plain": [
       "[3574, 3329, 4411, 10075, 2606, 52, 30, 67, 1402, 52]"
      ]
     },
     "execution_count": 188,
     "metadata": {},
     "output_type": "execute_result"
    }
   ],
   "source": [
    "res"
   ]
  },
  {
   "cell_type": "code",
   "execution_count": 164,
   "metadata": {},
   "outputs": [
    {
     "data": {
      "text/plain": [
       "Result(accuracy=0.6452365796732442, n_paras=784, n_ques=4713)"
      ]
     },
     "execution_count": 164,
     "metadata": {},
     "output_type": "execute_result"
    }
   ],
   "source": [
    "res"
   ]
  },
  {
   "cell_type": "code",
   "execution_count": 156,
   "metadata": {},
   "outputs": [],
   "source": [
    "dist = metrics.pairwise_distances(\n",
    "    vec.transform(dbs.paragraph['context']), vec.transform(['this is chopin'])\n",
    ")"
   ]
  },
  {
   "cell_type": "code",
   "execution_count": 162,
   "metadata": {},
   "outputs": [
    {
     "data": {
      "text/plain": [
       "title_id                                                    0\n",
       "para_id                                                    74\n",
       "context     Chopin's music is frequently played with rubat...\n",
       "Name: 74, dtype: object"
      ]
     },
     "execution_count": 162,
     "metadata": {},
     "output_type": "execute_result"
    }
   ],
   "source": [
    "dbs.paragraph.iloc[74]"
   ]
  },
  {
   "cell_type": "code",
   "execution_count": 144,
   "metadata": {},
   "outputs": [],
   "source": [
    "vals = {}\n",
    "for i in range(10):\n",
    "    _id = modeling.eda.filter_db(db, {i})\n",
    "    vals[i] = modeling.model.predict(_id)"
   ]
  },
  {
   "cell_type": "code",
   "execution_count": 146,
   "metadata": {},
   "outputs": [
    {
     "data": {
      "text/plain": [
       "{0: Result(accuracy=0.6886657101865137, n_paras=82, n_ques=697),\n",
       " 1: Result(accuracy=0.6116207951070336, n_paras=60, n_ques=327),\n",
       " 2: Result(accuracy=0.6417112299465241, n_paras=32, n_ques=374),\n",
       " 3: Result(accuracy=0.7034632034632035, n_paras=43, n_ques=462),\n",
       " 4: Result(accuracy=0.7543186180422264, n_paras=77, n_ques=521),\n",
       " 5: Result(accuracy=0.7564259485924113, n_paras=148, n_ques=817),\n",
       " 6: Result(accuracy=0.631578947368421, n_paras=62, n_ques=228),\n",
       " 7: Result(accuracy=0.8514056224899599, n_paras=52, n_ques=249),\n",
       " 8: Result(accuracy=0.5817757009345794, n_paras=79, n_ques=428),\n",
       " 9: Result(accuracy=0.7721311475409836, n_paras=149, n_ques=610)}"
      ]
     },
     "execution_count": 146,
     "metadata": {},
     "output_type": "execute_result"
    }
   ],
   "source": [
    "vals"
   ]
  },
  {
   "cell_type": "code",
   "execution_count": 150,
   "metadata": {},
   "outputs": [
    {
     "data": {
      "text/plain": [
       "0.706980691703798"
      ]
     },
     "execution_count": 150,
     "metadata": {},
     "output_type": "execute_result"
    }
   ],
   "source": [
    "sum(val.accuracy * val.n_ques for val in vals.values()) / sum(\n",
    "    val.n_ques for val in vals.values()\n",
    ")"
   ]
  },
  {
   "cell_type": "code",
   "execution_count": 75,
   "metadata": {},
   "outputs": [],
   "source": [
    "para = db.paragraph\n",
    "ques = db.ques_ans"
   ]
  },
  {
   "cell_type": "code",
   "execution_count": 85,
   "metadata": {},
   "outputs": [
    {
     "data": {
      "text/plain": [
       "0.0"
      ]
     },
     "execution_count": 85,
     "metadata": {},
     "output_type": "execute_result"
    }
   ],
   "source": [
    "metrics.accuracy_score([[1, 2]], [[2, 2]])"
   ]
  },
  {
   "cell_type": "code",
   "execution_count": 107,
   "metadata": {},
   "outputs": [
    {
     "data": {
      "text/html": [
       "<div>\n",
       "<style scoped>\n",
       "    .dataframe tbody tr th:only-of-type {\n",
       "        vertical-align: middle;\n",
       "    }\n",
       "\n",
       "    .dataframe tbody tr th {\n",
       "        vertical-align: top;\n",
       "    }\n",
       "\n",
       "    .dataframe thead th {\n",
       "        text-align: right;\n",
       "    }\n",
       "</style>\n",
       "<table border=\"1\" class=\"dataframe\">\n",
       "  <thead>\n",
       "    <tr style=\"text-align: right;\">\n",
       "      <th></th>\n",
       "      <th>title_id</th>\n",
       "      <th>para_id</th>\n",
       "      <th>context</th>\n",
       "      <th>ques_ans_id</th>\n",
       "      <th>question</th>\n",
       "      <th>is_impossible</th>\n",
       "    </tr>\n",
       "  </thead>\n",
       "  <tbody>\n",
       "    <tr>\n",
       "      <th>0</th>\n",
       "      <td>0</td>\n",
       "      <td>0</td>\n",
       "      <td>Frédéric François Chopin (/ˈʃoʊpæn/; French pr...</td>\n",
       "      <td>56cbd2356d243a140015ed66</td>\n",
       "      <td>What was Frédéric's nationalities?</td>\n",
       "      <td>False</td>\n",
       "    </tr>\n",
       "    <tr>\n",
       "      <th>1</th>\n",
       "      <td>0</td>\n",
       "      <td>0</td>\n",
       "      <td>Frédéric François Chopin (/ˈʃoʊpæn/; French pr...</td>\n",
       "      <td>56cbd2356d243a140015ed67</td>\n",
       "      <td>In what era was Frédéric active in?</td>\n",
       "      <td>False</td>\n",
       "    </tr>\n",
       "    <tr>\n",
       "      <th>2</th>\n",
       "      <td>0</td>\n",
       "      <td>0</td>\n",
       "      <td>Frédéric François Chopin (/ˈʃoʊpæn/; French pr...</td>\n",
       "      <td>56cbd2356d243a140015ed68</td>\n",
       "      <td>For what instrument did Frédéric write primari...</td>\n",
       "      <td>False</td>\n",
       "    </tr>\n",
       "    <tr>\n",
       "      <th>3</th>\n",
       "      <td>0</td>\n",
       "      <td>0</td>\n",
       "      <td>Frédéric François Chopin (/ˈʃoʊpæn/; French pr...</td>\n",
       "      <td>56cbd2356d243a140015ed69</td>\n",
       "      <td>In what area was Frédéric born in?</td>\n",
       "      <td>False</td>\n",
       "    </tr>\n",
       "    <tr>\n",
       "      <th>4</th>\n",
       "      <td>0</td>\n",
       "      <td>0</td>\n",
       "      <td>Frédéric François Chopin (/ˈʃoʊpæn/; French pr...</td>\n",
       "      <td>56cbd2356d243a140015ed6a</td>\n",
       "      <td>At what age did Frédéric depart from Poland?</td>\n",
       "      <td>False</td>\n",
       "    </tr>\n",
       "    <tr>\n",
       "      <th>...</th>\n",
       "      <td>...</td>\n",
       "      <td>...</td>\n",
       "      <td>...</td>\n",
       "      <td>...</td>\n",
       "      <td>...</td>\n",
       "      <td>...</td>\n",
       "    </tr>\n",
       "    <tr>\n",
       "      <th>86563</th>\n",
       "      <td>293</td>\n",
       "      <td>28</td>\n",
       "      <td>The term \"matter\" is used throughout physics i...</td>\n",
       "      <td>5a7e070b70df9f001a875439</td>\n",
       "      <td>Physics has broadly agreed on the definition o...</td>\n",
       "      <td>True</td>\n",
       "    </tr>\n",
       "    <tr>\n",
       "      <th>86564</th>\n",
       "      <td>293</td>\n",
       "      <td>28</td>\n",
       "      <td>The term \"matter\" is used throughout physics i...</td>\n",
       "      <td>5a7e070b70df9f001a87543a</td>\n",
       "      <td>Who coined the term partonic matter?</td>\n",
       "      <td>True</td>\n",
       "    </tr>\n",
       "    <tr>\n",
       "      <th>86565</th>\n",
       "      <td>293</td>\n",
       "      <td>28</td>\n",
       "      <td>The term \"matter\" is used throughout physics i...</td>\n",
       "      <td>5a7e070b70df9f001a87543b</td>\n",
       "      <td>What is another name for anti-matter?</td>\n",
       "      <td>True</td>\n",
       "    </tr>\n",
       "    <tr>\n",
       "      <th>86566</th>\n",
       "      <td>293</td>\n",
       "      <td>28</td>\n",
       "      <td>The term \"matter\" is used throughout physics i...</td>\n",
       "      <td>5a7e070b70df9f001a87543c</td>\n",
       "      <td>Matter usually does not need to be used in con...</td>\n",
       "      <td>True</td>\n",
       "    </tr>\n",
       "    <tr>\n",
       "      <th>86567</th>\n",
       "      <td>293</td>\n",
       "      <td>28</td>\n",
       "      <td>The term \"matter\" is used throughout physics i...</td>\n",
       "      <td>5a7e070b70df9f001a87543d</td>\n",
       "      <td>What field of study has a variety of unusual c...</td>\n",
       "      <td>True</td>\n",
       "    </tr>\n",
       "  </tbody>\n",
       "</table>\n",
       "<p>86568 rows × 6 columns</p>\n",
       "</div>"
      ],
      "text/plain": [
       "       title_id  para_id                                            context  \\\n",
       "0             0        0  Frédéric François Chopin (/ˈʃoʊpæn/; French pr...   \n",
       "1             0        0  Frédéric François Chopin (/ˈʃoʊpæn/; French pr...   \n",
       "2             0        0  Frédéric François Chopin (/ˈʃoʊpæn/; French pr...   \n",
       "3             0        0  Frédéric François Chopin (/ˈʃoʊpæn/; French pr...   \n",
       "4             0        0  Frédéric François Chopin (/ˈʃoʊpæn/; French pr...   \n",
       "...         ...      ...                                                ...   \n",
       "86563       293       28  The term \"matter\" is used throughout physics i...   \n",
       "86564       293       28  The term \"matter\" is used throughout physics i...   \n",
       "86565       293       28  The term \"matter\" is used throughout physics i...   \n",
       "86566       293       28  The term \"matter\" is used throughout physics i...   \n",
       "86567       293       28  The term \"matter\" is used throughout physics i...   \n",
       "\n",
       "                    ques_ans_id  \\\n",
       "0      56cbd2356d243a140015ed66   \n",
       "1      56cbd2356d243a140015ed67   \n",
       "2      56cbd2356d243a140015ed68   \n",
       "3      56cbd2356d243a140015ed69   \n",
       "4      56cbd2356d243a140015ed6a   \n",
       "...                         ...   \n",
       "86563  5a7e070b70df9f001a875439   \n",
       "86564  5a7e070b70df9f001a87543a   \n",
       "86565  5a7e070b70df9f001a87543b   \n",
       "86566  5a7e070b70df9f001a87543c   \n",
       "86567  5a7e070b70df9f001a87543d   \n",
       "\n",
       "                                                question  is_impossible  \n",
       "0                     What was Frédéric's nationalities?          False  \n",
       "1                    In what era was Frédéric active in?          False  \n",
       "2      For what instrument did Frédéric write primari...          False  \n",
       "3                     In what area was Frédéric born in?          False  \n",
       "4           At what age did Frédéric depart from Poland?          False  \n",
       "...                                                  ...            ...  \n",
       "86563  Physics has broadly agreed on the definition o...           True  \n",
       "86564               Who coined the term partonic matter?           True  \n",
       "86565              What is another name for anti-matter?           True  \n",
       "86566  Matter usually does not need to be used in con...           True  \n",
       "86567  What field of study has a variety of unusual c...           True  \n",
       "\n",
       "[86568 rows x 6 columns]"
      ]
     },
     "execution_count": 107,
     "metadata": {},
     "output_type": "execute_result"
    }
   ],
   "source": [
    "pd.merge(para, db.ques_ans, on=['title_id', 'para_id'])"
   ]
  },
  {
   "cell_type": "code",
   "execution_count": 108,
   "metadata": {},
   "outputs": [],
   "source": [
    "vec = TfidfVectorizer(strip_accents='ascii', ngram_range=(1, 2), max_df=0.7)\n",
    "\n",
    "X = vec.fit_transform(para.context)"
   ]
  },
  {
   "cell_type": "code",
   "execution_count": 112,
   "metadata": {},
   "outputs": [],
   "source": [
    "y = vec.transform(ques['question'])"
   ]
  },
  {
   "cell_type": "code",
   "execution_count": 118,
   "metadata": {},
   "outputs": [],
   "source": [
    "# metrics.pairwise_distances(X, y[5])\n",
    "res = [np.argmin(metrics.pairwise_distances(X, _y)) for _y in y[:10]]"
   ]
  },
  {
   "cell_type": "code",
   "execution_count": 120,
   "metadata": {},
   "outputs": [
    {
     "data": {
      "text/html": [
       "<div>\n",
       "<style scoped>\n",
       "    .dataframe tbody tr th:only-of-type {\n",
       "        vertical-align: middle;\n",
       "    }\n",
       "\n",
       "    .dataframe tbody tr th {\n",
       "        vertical-align: top;\n",
       "    }\n",
       "\n",
       "    .dataframe thead th {\n",
       "        text-align: right;\n",
       "    }\n",
       "</style>\n",
       "<table border=\"1\" class=\"dataframe\">\n",
       "  <thead>\n",
       "    <tr style=\"text-align: right;\">\n",
       "      <th></th>\n",
       "      <th>title_id</th>\n",
       "      <th>para_id</th>\n",
       "      <th>context</th>\n",
       "    </tr>\n",
       "  </thead>\n",
       "  <tbody>\n",
       "    <tr>\n",
       "      <th>7654</th>\n",
       "      <td>170</td>\n",
       "      <td>52</td>\n",
       "      <td>With the fall of the Western Roman Empire, the...</td>\n",
       "    </tr>\n",
       "    <tr>\n",
       "      <th>1658</th>\n",
       "      <td>27</td>\n",
       "      <td>18</td>\n",
       "      <td>The final name for the republic during the Sov...</td>\n",
       "    </tr>\n",
       "    <tr>\n",
       "      <th>0</th>\n",
       "      <td>0</td>\n",
       "      <td>0</td>\n",
       "      <td>Frédéric François Chopin (/ˈʃoʊpæn/; French pr...</td>\n",
       "    </tr>\n",
       "    <tr>\n",
       "      <th>0</th>\n",
       "      <td>0</td>\n",
       "      <td>0</td>\n",
       "      <td>Frédéric François Chopin (/ˈʃoʊpæn/; French pr...</td>\n",
       "    </tr>\n",
       "    <tr>\n",
       "      <th>0</th>\n",
       "      <td>0</td>\n",
       "      <td>0</td>\n",
       "      <td>Frédéric François Chopin (/ˈʃoʊpæn/; French pr...</td>\n",
       "    </tr>\n",
       "    <tr>\n",
       "      <th>80</th>\n",
       "      <td>0</td>\n",
       "      <td>80</td>\n",
       "      <td>Chopin's qualities as a pianist and composer w...</td>\n",
       "    </tr>\n",
       "    <tr>\n",
       "      <th>1658</th>\n",
       "      <td>27</td>\n",
       "      <td>18</td>\n",
       "      <td>The final name for the republic during the Sov...</td>\n",
       "    </tr>\n",
       "    <tr>\n",
       "      <th>80</th>\n",
       "      <td>0</td>\n",
       "      <td>80</td>\n",
       "      <td>Chopin's qualities as a pianist and composer w...</td>\n",
       "    </tr>\n",
       "    <tr>\n",
       "      <th>614</th>\n",
       "      <td>8</td>\n",
       "      <td>58</td>\n",
       "      <td>On August 30, 2015, West was presented with th...</td>\n",
       "    </tr>\n",
       "    <tr>\n",
       "      <th>41</th>\n",
       "      <td>0</td>\n",
       "      <td>41</td>\n",
       "      <td>Chopin's music remains very popular and is reg...</td>\n",
       "    </tr>\n",
       "  </tbody>\n",
       "</table>\n",
       "</div>"
      ],
      "text/plain": [
       "      title_id  para_id                                            context\n",
       "7654       170       52  With the fall of the Western Roman Empire, the...\n",
       "1658        27       18  The final name for the republic during the Sov...\n",
       "0            0        0  Frédéric François Chopin (/ˈʃoʊpæn/; French pr...\n",
       "0            0        0  Frédéric François Chopin (/ˈʃoʊpæn/; French pr...\n",
       "0            0        0  Frédéric François Chopin (/ˈʃoʊpæn/; French pr...\n",
       "80           0       80  Chopin's qualities as a pianist and composer w...\n",
       "1658        27       18  The final name for the republic during the Sov...\n",
       "80           0       80  Chopin's qualities as a pianist and composer w...\n",
       "614          8       58  On August 30, 2015, West was presented with th...\n",
       "41           0       41  Chopin's music remains very popular and is reg..."
      ]
     },
     "execution_count": 120,
     "metadata": {},
     "output_type": "execute_result"
    }
   ],
   "source": [
    "para.iloc[res]"
   ]
  },
  {
   "cell_type": "markdown",
   "metadata": {},
   "source": [
    "## Dummy"
   ]
  },
  {
   "cell_type": "code",
   "execution_count": 10,
   "metadata": {},
   "outputs": [],
   "source": [
    "d_clf_title = dummy.DummyClassifier()"
   ]
  },
  {
   "cell_type": "code",
   "execution_count": 14,
   "metadata": {},
   "outputs": [
    {
     "data": {
      "text/plain": [
       "DummyClassifier()"
      ]
     },
     "execution_count": 14,
     "metadata": {},
     "output_type": "execute_result"
    }
   ],
   "source": [
    "d_clf_title.fit(db.paragraph['context'], db.paragraph.title_id)"
   ]
  },
  {
   "cell_type": "code",
   "execution_count": 15,
   "metadata": {},
   "outputs": [
    {
     "data": {
      "text/plain": [
       "0.011612500974203101"
      ]
     },
     "execution_count": 15,
     "metadata": {},
     "output_type": "execute_result"
    }
   ],
   "source": [
    "d_clf_title.score(db.paragraph['context'], db.paragraph.title_id)"
   ]
  },
  {
   "cell_type": "code",
   "execution_count": 7,
   "metadata": {},
   "outputs": [],
   "source": [
    "d_clf = dummy.DummyClassifier()"
   ]
  },
  {
   "cell_type": "code",
   "execution_count": 8,
   "metadata": {},
   "outputs": [
    {
     "data": {
      "text/plain": [
       "DummyClassifier()"
      ]
     },
     "execution_count": 8,
     "metadata": {},
     "output_type": "execute_result"
    }
   ],
   "source": [
    "d_clf.fit(db.ques_ans.question, db.ques_ans.title_id)"
   ]
  },
  {
   "cell_type": "code",
   "execution_count": 9,
   "metadata": {},
   "outputs": [
    {
     "data": {
      "text/plain": [
       "0.009437667498382775"
      ]
     },
     "execution_count": 9,
     "metadata": {},
     "output_type": "execute_result"
    }
   ],
   "source": [
    "d_clf.score(db.ques_ans.question, db.ques_ans.title_id)"
   ]
  }
 ],
 "metadata": {
  "kernelspec": {
   "display_name": "Python 3 (ipykernel)",
   "language": "python",
   "name": "python3"
  },
  "language_info": {
   "codemirror_mode": {
    "name": "ipython",
    "version": 3
   },
   "file_extension": ".py",
   "mimetype": "text/x-python",
   "name": "python",
   "nbconvert_exporter": "python",
   "pygments_lexer": "ipython3",
   "version": "3.10.8"
  },
  "vscode": {
   "interpreter": {
    "hash": "1ae7d82e80261c75625908399c91692abd4a6ddfd9f16ff4798a217bff9fa6d9"
   }
  }
 },
 "nbformat": 4,
 "nbformat_minor": 4
}
